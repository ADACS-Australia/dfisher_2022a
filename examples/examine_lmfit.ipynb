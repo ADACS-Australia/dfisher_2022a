{
 "cells": [
  {
   "cell_type": "code",
   "execution_count": 1,
   "id": "5363c4c3",
   "metadata": {},
   "outputs": [],
   "source": [
    "import lmfit\n",
    "import numpy as np\n",
    "from numpy import exp, linspace, random\n",
    "from scipy.optimize import curve_fit, leastsq\n",
    "from numpy import ma"
   ]
  },
  {
   "cell_type": "markdown",
   "id": "753ef517",
   "metadata": {},
   "source": [
    "### Model"
   ]
  },
  {
   "cell_type": "code",
   "execution_count": 2,
   "id": "2978a1e7",
   "metadata": {},
   "outputs": [],
   "source": [
    "def gaussian(params, x, y):\n",
    "    amp, cen, wid = params[0], params[1], params[2]\n",
    "    residual = y - amp * exp(-(x-cen)**2 / wid)\n",
    "    return residual"
   ]
  },
  {
   "cell_type": "markdown",
   "id": "67631d64",
   "metadata": {},
   "source": [
    "### Residual"
   ]
  },
  {
   "cell_type": "code",
   "execution_count": 3,
   "id": "1c722a10",
   "metadata": {},
   "outputs": [],
   "source": [
    "def gaussian_g(params, x, data):\n",
    "    height, center, sigma, c = params[0], params[1], params[2], params[3]\n",
    "    \n",
    "    model = height * np.exp(-((1.0 * x - center) ** 2) / max(1.e-15, (2 * sigma ** 2))) + c\n",
    "    return data-model"
   ]
  },
  {
   "cell_type": "markdown",
   "id": "1cf698b6",
   "metadata": {},
   "source": [
    "### Data"
   ]
  },
  {
   "cell_type": "code",
   "execution_count": 32,
   "id": "d9f081d0",
   "metadata": {},
   "outputs": [],
   "source": [
    "x1= linspace(-10, 10, 101)\n",
    "y1 = 2.33 * exp(-(x1-0.21)**2 / 1.51)+ random.normal(0, 0.2, x1.size)"
   ]
  },
  {
   "cell_type": "code",
   "execution_count": 4,
   "id": "1cb62243",
   "metadata": {},
   "outputs": [],
   "source": [
    "xx = np.array([6548.06489762, 6549.31489762, 6550.56489762, 6551.81489762,\n",
    "       6553.06489762, 6554.31489762, 6555.56489762, 6556.81489762,\n",
    "       6558.06489762, 6559.31489762, 6560.56489762, 6561.81489762,\n",
    "       6563.06489762, 6564.31489762, 6565.56489762, 6566.81489762,\n",
    "       6568.06489762, 6569.31489762, 6570.56489762, 6571.81489762,\n",
    "       6573.06489762, 6574.31489762, 6575.56489762, 6576.81489762,\n",
    "       6578.06489762])"
   ]
  },
  {
   "cell_type": "code",
   "execution_count": 90,
   "id": "0792d30c",
   "metadata": {},
   "outputs": [],
   "source": [
    "# data = ma.MaskedArray(data=[  7.48501778,   7.09317732,   7.03931999,   7.03201437,\n",
    "#          7.12849331,   7.44794178,   7.16412687,   7.71622229,\n",
    "#          9.18051338,  21.93631554,  66.16438293, 140.59335327,\n",
    "#        179.75015259, 134.93383789,  61.15007019,  20.12806702,\n",
    "#          8.98960495,   7.18552256,   7.04587221,   7.17096138,\n",
    "#          7.05737543,   7.03616285,   7.3354826 ,   7.11767721,\n",
    "#          7.28576183],\n",
    "#              mask=[False,  True,  True, False, False, False, False, False,\n",
    "#                    False, False, False,  True,  True, False, False, False,\n",
    "#                    False, False, False,  True, False, False, False, False,\n",
    "#                    False],\n",
    "#        fill_value=1e+20)"
   ]
  },
  {
   "cell_type": "code",
   "execution_count": 92,
   "id": "a51e1652",
   "metadata": {},
   "outputs": [],
   "source": [
    "# non-masked array\n",
    "data = np.array([  7.48501778,   7.09317732,   7.03931999,   7.03201437,\n",
    "         7.12849331,   7.44794178,   7.16412687,   7.71622229,\n",
    "         9.18051338,  21.93631554,  66.16438293, 140.59335327,\n",
    "       179.75015259, 134.93383789,  61.15007019,  20.12806702,\n",
    "         8.98960495,   7.18552256,   7.04587221,   7.17096138,\n",
    "         7.05737543,   7.03616285,   7.3354826 ,   7.11767721,\n",
    "         7.28576183])"
   ]
  },
  {
   "cell_type": "markdown",
   "id": "10ffe538",
   "metadata": {},
   "source": [
    "### Initial guess"
   ]
  },
  {
   "cell_type": "code",
   "execution_count": 6,
   "id": "a406bc2a",
   "metadata": {},
   "outputs": [],
   "source": [
    "gau_init = [127.900000 , 6563.06000, 1.25000000 , 7.24000000 ]"
   ]
  },
  {
   "cell_type": "markdown",
   "id": "3a12f448",
   "metadata": {},
   "source": [
    "### transform to internal parameter space"
   ]
  },
  {
   "cell_type": "code",
   "execution_count": 9,
   "id": "c1d38b08",
   "metadata": {},
   "outputs": [],
   "source": [
    "# paramers height and sigma have a minminum value of zero\n",
    "# height_internal = np.sqrt((height+1)**2 -1)\n",
    "# sigma_internal = np.sqrt((sigma+1)**2 -1)\n",
    "# height = np.sqrt(height_internal**2 + 1) - 1\n",
    "# sigma = np.sqrt(sigma_internal**2 + 1) -1"
   ]
  },
  {
   "cell_type": "code",
   "execution_count": 94,
   "id": "bc8008eb",
   "metadata": {},
   "outputs": [],
   "source": [
    "def gaussian_g_internal(params, x, data):\n",
    "    height_internal, center, sigma_internal, c = params[0], params[1], params[2], params[3]\n",
    "    \n",
    "    model = (np.sqrt(height_internal**2 + 1) - 1) * np.exp(-((1.0 * x - center) ** 2) / max(1.e-15, (2 * (np.sqrt(sigma_internal**2 + 1) -1) ** 2))) + c\n",
    "    return data-model"
   ]
  },
  {
   "cell_type": "code",
   "execution_count": 95,
   "id": "39479948",
   "metadata": {},
   "outputs": [],
   "source": [
    "gau_init_internal = [ np.sqrt((127.900000+1)**2 -1), 6563.06000,  np.sqrt((1.25000000+1)**2 -1), 7.24000000 ]"
   ]
  },
  {
   "cell_type": "code",
   "execution_count": 96,
   "id": "73edd95a",
   "metadata": {},
   "outputs": [
    {
     "data": {
      "text/plain": [
       "[128.89612096568308, 6563.06, 2.0155644370746373, 7.24]"
      ]
     },
     "execution_count": 96,
     "metadata": {},
     "output_type": "execute_result"
    }
   ],
   "source": [
    "gau_init_internal"
   ]
  },
  {
   "cell_type": "markdown",
   "id": "56ee1a44",
   "metadata": {},
   "source": [
    "### leastsq fitting result"
   ]
  },
  {
   "cell_type": "markdown",
   "id": "29060a3b",
   "metadata": {},
   "source": [
    "#### fit for internal parameters"
   ]
  },
  {
   "cell_type": "code",
   "execution_count": 97,
   "id": "fb164560",
   "metadata": {},
   "outputs": [],
   "source": [
    "gau_internal_res = leastsq(gaussian_g_internal, gau_init_internal, (xx, data), full_output=1)"
   ]
  },
  {
   "cell_type": "code",
   "execution_count": 98,
   "id": "1c13076b",
   "metadata": {},
   "outputs": [
    {
     "data": {
      "text/plain": [
       "array([1.73715919e+02, 6.56301600e+03, 2.47696679e+00, 7.17351852e+00])"
      ]
     },
     "execution_count": 98,
     "metadata": {},
     "output_type": "execute_result"
    }
   ],
   "source": [
    "gau_internal_res[0]"
   ]
  },
  {
   "cell_type": "markdown",
   "id": "71d027cd",
   "metadata": {},
   "source": [
    "#### convert to external (bounded) parameters"
   ]
  },
  {
   "cell_type": "code",
   "execution_count": 103,
   "id": "6461beaf",
   "metadata": {},
   "outputs": [],
   "source": [
    "gau_res_0 = [np.sqrt(1.73715919e+02**2 + 1) - 1, 6.56301600e+03, np.sqrt(2.47696679e+00**2 + 1) -1, 7.17351852e+00]"
   ]
  },
  {
   "cell_type": "code",
   "execution_count": 104,
   "id": "398fc847",
   "metadata": {},
   "outputs": [
    {
     "data": {
      "text/plain": [
       "[172.71879723856762, 6563.016, 1.6712103022343459, 7.17351852]"
      ]
     },
     "execution_count": 104,
     "metadata": {},
     "output_type": "execute_result"
    }
   ],
   "source": [
    "gau_res_0"
   ]
  },
  {
   "cell_type": "markdown",
   "id": "af71bb6d",
   "metadata": {},
   "source": [
    "#### covariance matrix transformation"
   ]
  },
  {
   "cell_type": "code",
   "execution_count": 101,
   "id": "138bafc6",
   "metadata": {},
   "outputs": [],
   "source": [
    "cov_internal = gau_internal_res[1]"
   ]
  },
  {
   "cell_type": "code",
   "execution_count": 102,
   "id": "639c7099",
   "metadata": {},
   "outputs": [
    {
     "data": {
      "text/plain": [
       "(4, 4)"
      ]
     },
     "execution_count": 102,
     "metadata": {},
     "output_type": "execute_result"
    }
   ],
   "source": [
    "cov_internal.shape"
   ]
  },
  {
   "cell_type": "markdown",
   "id": "215f8477",
   "metadata": {},
   "source": [
    "##### scale_gradient"
   ]
  },
  {
   "cell_type": "code",
   "execution_count": 105,
   "id": "f0449367",
   "metadata": {},
   "outputs": [],
   "source": [
    "height_scale = 172.71879723856762/np.sqrt(172.71879723856762**2 + 1)\n",
    "center_scale = 1.\n",
    "sigma_scale = 1.6712103022343459/np.sqrt(1.6712103022343459**2 + 1)\n",
    "c_scale = 1."
   ]
  },
  {
   "cell_type": "code",
   "execution_count": 106,
   "id": "26538278",
   "metadata": {},
   "outputs": [],
   "source": [
    "g = [height_scale, center_scale, sigma_scale, c_scale]"
   ]
  },
  {
   "cell_type": "code",
   "execution_count": 107,
   "id": "9966f114",
   "metadata": {},
   "outputs": [],
   "source": [
    "grad2d = np.atleast_2d(g)"
   ]
  },
  {
   "cell_type": "markdown",
   "id": "18a80387",
   "metadata": {},
   "source": [
    "##### calcuate external covariance matrix"
   ]
  },
  {
   "cell_type": "code",
   "execution_count": 108,
   "id": "9a56643f",
   "metadata": {},
   "outputs": [],
   "source": [
    "grad = np.dot(grad2d.T, grad2d)"
   ]
  },
  {
   "cell_type": "code",
   "execution_count": 109,
   "id": "c89d2d54",
   "metadata": {},
   "outputs": [],
   "source": [
    "cov_ext = cov_internal * grad"
   ]
  },
  {
   "cell_type": "code",
   "execution_count": 110,
   "id": "a8e92427",
   "metadata": {},
   "outputs": [
    {
     "data": {
      "text/plain": [
       "array([[ 6.60925132e-01,  2.33257393e-07, -3.27798474e-03,\n",
       "        -3.95242958e-02],\n",
       "       [ 2.33257393e-07,  7.90177406e-05, -2.01819422e-09,\n",
       "        -1.03074354e-09],\n",
       "       [-3.27798474e-03, -2.01819422e-09,  7.66292623e-05,\n",
       "        -7.07785822e-04],\n",
       "       [-3.95242958e-02, -1.03074354e-09, -7.07785822e-04,\n",
       "         5.58945054e-02]])"
      ]
     },
     "execution_count": 110,
     "metadata": {},
     "output_type": "execute_result"
    }
   ],
   "source": [
    "cov_ext"
   ]
  },
  {
   "cell_type": "markdown",
   "id": "7f2d7490",
   "metadata": {},
   "source": [
    "#### calculate chi2"
   ]
  },
  {
   "cell_type": "code",
   "execution_count": 111,
   "id": "02191278",
   "metadata": {},
   "outputs": [],
   "source": [
    "residual = gaussian_g([172.71879723856762, 6563.016, 1.6712103022343459, 7.17351852], xx, data)"
   ]
  },
  {
   "cell_type": "code",
   "execution_count": 112,
   "id": "e795b174",
   "metadata": {},
   "outputs": [
    {
     "data": {
      "text/plain": [
       "array([ 0.31149926, -0.0803412 , -0.13419853, -0.14150418, -0.04502866,\n",
       "        0.27419884, -0.01772511,  0.36584615, -0.13815674, -0.10778912,\n",
       "        0.0747532 ,  0.01365505, -0.06824863,  0.06723987, -0.00146206,\n",
       "       -0.0861942 ,  0.01545991, -0.13009163, -0.13405507, -0.00272234,\n",
       "       -0.11614552, -0.13735569,  0.16196408, -0.05584131,  0.11224331])"
      ]
     },
     "execution_count": 112,
     "metadata": {},
     "output_type": "execute_result"
    }
   ],
   "source": [
    "residual"
   ]
  },
  {
   "cell_type": "code",
   "execution_count": 113,
   "id": "f38ba5ce",
   "metadata": {},
   "outputs": [],
   "source": [
    "chi2 = (residual**2).sum()"
   ]
  },
  {
   "cell_type": "code",
   "execution_count": 114,
   "id": "c27af919",
   "metadata": {},
   "outputs": [
    {
     "data": {
      "text/plain": [
       "0.5154268353809002"
      ]
     },
     "execution_count": 114,
     "metadata": {},
     "output_type": "execute_result"
    }
   ],
   "source": [
    "chi2"
   ]
  },
  {
   "cell_type": "code",
   "execution_count": 116,
   "id": "032dd2a7",
   "metadata": {},
   "outputs": [],
   "source": [
    "ndata = len(residual)\n",
    "nfree = ndata - 4"
   ]
  },
  {
   "cell_type": "code",
   "execution_count": 117,
   "id": "9df9aac0",
   "metadata": {},
   "outputs": [
    {
     "data": {
      "text/plain": [
       "25"
      ]
     },
     "execution_count": 117,
     "metadata": {},
     "output_type": "execute_result"
    }
   ],
   "source": [
    "ndata"
   ]
  },
  {
   "cell_type": "code",
   "execution_count": 118,
   "id": "1d37abc8",
   "metadata": {},
   "outputs": [],
   "source": [
    "reduced_chi2 = chi2/nfree"
   ]
  },
  {
   "cell_type": "code",
   "execution_count": 119,
   "id": "a58e06c4",
   "metadata": {},
   "outputs": [
    {
     "data": {
      "text/plain": [
       "0.024544135018138104"
      ]
     },
     "execution_count": 119,
     "metadata": {},
     "output_type": "execute_result"
    }
   ],
   "source": [
    "reduced_chi2"
   ]
  },
  {
   "cell_type": "markdown",
   "id": "257dedc8",
   "metadata": {},
   "source": [
    "#### calculate stderr"
   ]
  },
  {
   "cell_type": "markdown",
   "id": "6cd23220",
   "metadata": {},
   "source": [
    "##### scale covariance matrix"
   ]
  },
  {
   "cell_type": "code",
   "execution_count": 120,
   "id": "a1839c9f",
   "metadata": {},
   "outputs": [],
   "source": [
    "cov_ext_scale = cov_ext * reduced_chi2"
   ]
  },
  {
   "cell_type": "code",
   "execution_count": 121,
   "id": "f8c70068",
   "metadata": {},
   "outputs": [
    {
     "data": {
      "text/plain": [
       "array([[ 1.62218357e-02,  5.72510095e-09, -8.04553000e-05,\n",
       "        -9.70089653e-04],\n",
       "       [ 5.72510095e-09,  1.93942209e-06, -4.95348315e-11,\n",
       "        -2.52987085e-11],\n",
       "       [-8.04553000e-05, -4.95348315e-11,  1.88079896e-06,\n",
       "        -1.73719908e-05],\n",
       "       [-9.70089653e-04, -2.52987085e-11, -1.73719908e-05,\n",
       "         1.37188229e-03]])"
      ]
     },
     "execution_count": 121,
     "metadata": {},
     "output_type": "execute_result"
    }
   ],
   "source": [
    "cov_ext_scale"
   ]
  },
  {
   "cell_type": "markdown",
   "id": "d5fbaf3c",
   "metadata": {},
   "source": [
    "##### calculate stderr"
   ]
  },
  {
   "cell_type": "code",
   "execution_count": 122,
   "id": "af5d21d4",
   "metadata": {},
   "outputs": [],
   "source": [
    "height_err = np.sqrt(cov_ext_scale[0,0])"
   ]
  },
  {
   "cell_type": "code",
   "execution_count": 123,
   "id": "a6a2ae0d",
   "metadata": {},
   "outputs": [
    {
     "data": {
      "text/plain": [
       "0.1273649703649372"
      ]
     },
     "execution_count": 123,
     "metadata": {},
     "output_type": "execute_result"
    }
   ],
   "source": [
    "height_err  # output from lmfit: 0.12736497"
   ]
  },
  {
   "cell_type": "code",
   "execution_count": 124,
   "id": "e5d0506d",
   "metadata": {},
   "outputs": [],
   "source": [
    "center_err = np.sqrt(cov_ext_scale[1,1]) # output from lmfit: 0.00139263 "
   ]
  },
  {
   "cell_type": "code",
   "execution_count": 125,
   "id": "2f3d881f",
   "metadata": {},
   "outputs": [
    {
     "data": {
      "text/plain": [
       "0.0013926313563530622"
      ]
     },
     "execution_count": 125,
     "metadata": {},
     "output_type": "execute_result"
    }
   ],
   "source": [
    "center_err"
   ]
  },
  {
   "cell_type": "code",
   "execution_count": 126,
   "id": "ffa40e91",
   "metadata": {},
   "outputs": [],
   "source": [
    "sigma_err = np.sqrt(cov_ext_scale[2,2]) # output from lmfit: 0.00148197 "
   ]
  },
  {
   "cell_type": "code",
   "execution_count": 127,
   "id": "1317147f",
   "metadata": {},
   "outputs": [
    {
     "data": {
      "text/plain": [
       "0.001371422240276804"
      ]
     },
     "execution_count": 127,
     "metadata": {},
     "output_type": "execute_result"
    }
   ],
   "source": [
    "sigma_err"
   ]
  },
  {
   "cell_type": "code",
   "execution_count": 128,
   "id": "82a52d08",
   "metadata": {},
   "outputs": [],
   "source": [
    "c_err = np.sqrt(cov_ext_scale[3,3]) # output from lmfit: 0.03703892 "
   ]
  },
  {
   "cell_type": "code",
   "execution_count": 129,
   "id": "6dbd43f9",
   "metadata": {},
   "outputs": [
    {
     "data": {
      "text/plain": [
       "0.03703892933752733"
      ]
     },
     "execution_count": 129,
     "metadata": {},
     "output_type": "execute_result"
    }
   ],
   "source": [
    "c_err"
   ]
  },
  {
   "cell_type": "markdown",
   "id": "93fc8afd",
   "metadata": {},
   "source": [
    "### uncategorized"
   ]
  },
  {
   "cell_type": "code",
   "execution_count": 7,
   "id": "e3eb29fe",
   "metadata": {},
   "outputs": [],
   "source": [
    "gau_res = leastsq(gaussian_g, gau_init, (xx, data), full_output=1)"
   ]
  },
  {
   "cell_type": "code",
   "execution_count": 8,
   "id": "ec3edfcd",
   "metadata": {},
   "outputs": [
    {
     "data": {
      "text/plain": [
       "array([1.72999600e+02, 6.56301520e+03, 1.66946370e+00, 7.19380093e+00])"
      ]
     },
     "execution_count": 8,
     "metadata": {},
     "output_type": "execute_result"
    }
   ],
   "source": [
    "gau_res[0]"
   ]
  },
  {
   "cell_type": "code",
   "execution_count": 162,
   "id": "87b7e51b",
   "metadata": {},
   "outputs": [],
   "source": [
    "errorbars = (gau_res[1] is not None)"
   ]
  },
  {
   "cell_type": "code",
   "execution_count": 164,
   "id": "9982435e",
   "metadata": {},
   "outputs": [],
   "source": [
    "grad = np.array([[0.99996648, 0.99998324, 0.85809549, 0.99998324],\n",
    "       [0.99998324, 1.        , 0.85810987, 1.        ],\n",
    "       [0.85809549, 0.85810987, 0.73635254, 0.85810987],\n",
    "       [0.99998324, 1.        , 0.85810987, 1.        ]])"
   ]
  },
  {
   "cell_type": "code",
   "execution_count": 165,
   "id": "7f187f26",
   "metadata": {},
   "outputs": [],
   "source": [
    "cov_ext = gau_res[1]*grad"
   ]
  },
  {
   "cell_type": "code",
   "execution_count": 166,
   "id": "98627e20",
   "metadata": {},
   "outputs": [
    {
     "data": {
      "text/plain": [
       "array([[ 4.85238718e+00, -1.55110596e-02, -2.02136018e-02,\n",
       "         1.96286738e-02],\n",
       "       [-1.55110596e-02,  1.60043134e-04,  5.30489461e-05,\n",
       "        -1.57657757e-04],\n",
       "       [-2.02136018e-02,  5.30489461e-05,  1.43445119e-04,\n",
       "        -1.10466444e-03],\n",
       "       [ 1.96286738e-02, -1.57657757e-04, -1.10466444e-03,\n",
       "         6.85435462e-02]])"
      ]
     },
     "execution_count": 166,
     "metadata": {},
     "output_type": "execute_result"
    }
   ],
   "source": [
    "cov_ext"
   ]
  },
  {
   "cell_type": "code",
   "execution_count": 170,
   "id": "2c8998e3",
   "metadata": {},
   "outputs": [
    {
     "data": {
      "text/plain": [
       "0.2618082240206693"
      ]
     },
     "execution_count": 170,
     "metadata": {},
     "output_type": "execute_result"
    }
   ],
   "source": [
    "np.sqrt(cov_ext[3,3])"
   ]
  },
  {
   "cell_type": "code",
   "execution_count": 171,
   "id": "6c20e52c",
   "metadata": {},
   "outputs": [],
   "source": [
    "init_vals = [1, 0, 1]  # for [amp, cen, wid]\n",
    "res = leastsq(gaussian,init_vals, (x1,y1), full_output=1)"
   ]
  },
  {
   "cell_type": "code",
   "execution_count": 55,
   "id": "d9df5749",
   "metadata": {},
   "outputs": [
    {
     "data": {
      "text/plain": [
       "array([2.56981074, 0.17804159, 1.35999017])"
      ]
     },
     "execution_count": 55,
     "metadata": {},
     "output_type": "execute_result"
    }
   ],
   "source": [
    "res[0]"
   ]
  },
  {
   "cell_type": "code",
   "execution_count": 146,
   "id": "3f59b64f",
   "metadata": {},
   "outputs": [
    {
     "data": {
      "text/plain": [
       "array([2.56981074, 0.17804159, 1.35999017])"
      ]
     },
     "execution_count": 146,
     "metadata": {},
     "output_type": "execute_result"
    }
   ],
   "source": [
    "res[0]"
   ]
  },
  {
   "cell_type": "code",
   "execution_count": 148,
   "id": "62fb545c",
   "metadata": {},
   "outputs": [
    {
     "data": {
      "text/plain": [
       "(3, 3)"
      ]
     },
     "execution_count": 148,
     "metadata": {},
     "output_type": "execute_result"
    }
   ],
   "source": [
    "res[1].shape"
   ]
  },
  {
   "cell_type": "code",
   "execution_count": 150,
   "id": "bc2f193f",
   "metadata": {},
   "outputs": [
    {
     "data": {
      "text/plain": [
       "array([[ 2.05253236e-01,  2.53932497e-09, -1.44834482e-01],\n",
       "       [ 2.53932497e-09,  2.81801036e-02, -1.42530474e-09],\n",
       "       [-1.44834482e-01, -1.42530474e-09,  3.06602144e-01]])"
      ]
     },
     "execution_count": 150,
     "metadata": {},
     "output_type": "execute_result"
    }
   ],
   "source": [
    "res[1]"
   ]
  },
  {
   "cell_type": "code",
   "execution_count": 109,
   "id": "ab740972",
   "metadata": {},
   "outputs": [],
   "source": [
    "# test with masked array\n",
    "\n",
    "_ma = np.random.randint(2, size= x1.size, dtype=np.bool_)"
   ]
  },
  {
   "cell_type": "code",
   "execution_count": 110,
   "id": "1be97d81",
   "metadata": {},
   "outputs": [],
   "source": [
    "y2 = ma.MaskedArray(y1, mask=_ma)"
   ]
  },
  {
   "cell_type": "code",
   "execution_count": 118,
   "id": "f3917e01",
   "metadata": {},
   "outputs": [
    {
     "name": "stdout",
     "output_type": "stream",
     "text": [
      "1.54 ms ± 74.6 µs per loop (mean ± std. dev. of 7 runs, 100 loops each)\n"
     ]
    }
   ],
   "source": [
    "%%timeit\n",
    "res2 = leastsq(gaussian, init_vals, (x1,y2), full_output=1)"
   ]
  },
  {
   "cell_type": "code",
   "execution_count": 113,
   "id": "878d09e2",
   "metadata": {},
   "outputs": [],
   "source": [
    "res2 = leastsq(gaussian, init_vals, (x1,y2), full_output=1)"
   ]
  },
  {
   "cell_type": "code",
   "execution_count": 114,
   "id": "bb393b9e",
   "metadata": {},
   "outputs": [
    {
     "data": {
      "text/plain": [
       "array([2.45893809, 0.20409826, 1.44003284])"
      ]
     },
     "execution_count": 114,
     "metadata": {},
     "output_type": "execute_result"
    }
   ],
   "source": [
    "res2[0]"
   ]
  },
  {
   "cell_type": "code",
   "execution_count": 81,
   "id": "ad3da583",
   "metadata": {},
   "outputs": [
    {
     "data": {
      "text/plain": [
       "101"
      ]
     },
     "execution_count": 81,
     "metadata": {},
     "output_type": "execute_result"
    }
   ],
   "source": [
    "res2[2]['fvec']"
   ]
  },
  {
   "cell_type": "code",
   "execution_count": 115,
   "id": "d15855ca",
   "metadata": {},
   "outputs": [],
   "source": [
    "y3 = y2[y2.mask == False].copy()\n",
    "x3 = x1[y2.mask == False].copy()\n",
    "res3 = leastsq(gaussian, init_vals, (x3,y3), full_output=1)"
   ]
  },
  {
   "cell_type": "code",
   "execution_count": 119,
   "id": "a761669f",
   "metadata": {},
   "outputs": [
    {
     "name": "stdout",
     "output_type": "stream",
     "text": [
      "1.65 ms ± 25.6 µs per loop (mean ± std. dev. of 7 runs, 1,000 loops each)\n"
     ]
    }
   ],
   "source": [
    "%%timeit\n",
    "y3 = y2[y2.mask == False].copy()\n",
    "x3 = x1[y2.mask == False].copy()\n",
    "res3 = leastsq(gaussian, init_vals, (x3,y3), full_output=1)"
   ]
  },
  {
   "cell_type": "code",
   "execution_count": 120,
   "id": "c40f7742",
   "metadata": {},
   "outputs": [
    {
     "data": {
      "text/plain": [
       "(array([2.45892325, 0.20409685, 1.44005681]),\n",
       " array([[ 0.65542453,  0.03029124, -0.43253447],\n",
       "        [ 0.03029124,  0.06628258, -0.03883975],\n",
       "        [-0.43253447, -0.03883975,  0.69802139]]),\n",
       " {'fvec': array([ 0.03477273, -0.12872887,  0.07137988,  0.07652104,  0.02078202,\n",
       "         -0.34226198, -0.18632205, -0.49955337,  0.05002334,  0.11161321,\n",
       "         -0.16067391,  0.20749805, -0.16828137,  0.11033501,  0.07547328,\n",
       "          0.22427452,  0.21117658, -0.26676398,  0.00084459, -0.19886104,\n",
       "          0.2644002 , -0.14889203,  0.03400941, -0.09867757,  0.04668435,\n",
       "          0.10326536, -0.3245153 ,  0.25123061,  0.11343694,  0.06027532,\n",
       "         -0.1323442 , -0.10097297, -0.02547032,  0.38950465, -0.08525189,\n",
       "          0.03983859, -0.10156034, -0.18731067,  0.04922391, -0.04462   ,\n",
       "         -0.17696021,  0.18533388, -0.02355286,  0.01408838, -0.4398535 ,\n",
       "          0.07842244,  0.07664051,  0.21585108,  0.02755452, -0.1063773 ,\n",
       "          0.31768274,  0.12692786]),\n",
       "  'nfev': 25,\n",
       "  'fjac': array([[-3.95218514e+00,  0.00000000e+00,  0.00000000e+00,\n",
       "           0.00000000e+00,  0.00000000e+00,  0.00000000e+00,\n",
       "           0.00000000e+00,  0.00000000e+00,  0.00000000e+00,\n",
       "           0.00000000e+00,  0.00000000e+00,  2.30915744e-09,\n",
       "           1.20076187e-07,  1.60948274e-06,  1.69769255e-05,\n",
       "           5.05590022e-05,  9.41501218e-04,  2.21877240e-03,\n",
       "           4.92699944e-03,  1.03037746e-02,  6.52644742e-02,\n",
       "           1.62642179e-01,  3.08595801e-01,  4.30804855e-01,\n",
       "           4.05150226e-01,  3.54128691e-03, -4.42980377e-01,\n",
       "          -3.82771951e-01, -3.11723019e-01, -2.35213710e-01,\n",
       "          -1.65255019e-01, -3.84437987e-02, -1.06064009e-02,\n",
       "          -5.08426129e-03, -3.91479543e-04, -1.48034311e-04,\n",
       "          -4.79150169e-07, -1.29312817e-07, -7.50476169e-09,\n",
       "          -1.73186808e-09,  0.00000000e+00,  0.00000000e+00,\n",
       "           0.00000000e+00,  0.00000000e+00,  0.00000000e+00,\n",
       "           0.00000000e+00,  0.00000000e+00,  0.00000000e+00,\n",
       "           0.00000000e+00,  0.00000000e+00,  0.00000000e+00,\n",
       "           0.00000000e+00],\n",
       "         [ 6.34947145e-02, -1.60664363e+00,  0.00000000e+00,\n",
       "           0.00000000e+00,  0.00000000e+00,  0.00000000e+00,\n",
       "           0.00000000e+00,  0.00000000e+00,  0.00000000e+00,\n",
       "           0.00000000e+00,  0.00000000e+00, -3.80221544e-10,\n",
       "          -1.26993252e-08, -1.88398969e-07, -2.23786408e-06,\n",
       "          -7.09721763e-06, -1.62010329e-04, -4.11105444e-04,\n",
       "          -9.86640762e-04, -2.23956047e-03, -1.87491448e-02,\n",
       "          -5.85083674e-02, -1.46113069e-01, -2.92016123e-01,\n",
       "          -4.67070649e-01, -6.22268353e-01, -4.18408031e-01,\n",
       "          -2.45672951e-01, -1.73171357e-01, -1.15457657e-01,\n",
       "          -7.28112156e-02, -1.30769590e-02, -3.15165621e-03,\n",
       "          -1.42332831e-03, -9.38887522e-05, -3.39408537e-05,\n",
       "          -9.08367120e-08, -2.34981625e-08, -1.35741818e-09,\n",
       "          -3.04183433e-10,  0.00000000e+00,  0.00000000e+00,\n",
       "           0.00000000e+00,  0.00000000e+00,  0.00000000e+00,\n",
       "           0.00000000e+00,  0.00000000e+00,  0.00000000e+00,\n",
       "           0.00000000e+00,  0.00000000e+00,  0.00000000e+00,\n",
       "           0.00000000e+00],\n",
       "         [-1.80565024e-01, -9.95569416e-01, -1.19692141e+00,\n",
       "           0.00000000e+00,  0.00000000e+00,  0.00000000e+00,\n",
       "           0.00000000e+00,  0.00000000e+00,  0.00000000e+00,\n",
       "           0.00000000e+00,  0.00000000e+00, -1.08387709e-08,\n",
       "          -7.03501332e-07, -8.58338620e-06, -8.25294681e-05,\n",
       "          -2.33821057e-04, -3.68171916e-03, -8.14333496e-03,\n",
       "          -1.68919904e-02, -3.28168195e-02, -1.59171974e-01,\n",
       "          -3.12275216e-01, -4.21792542e-01, -3.18035044e-01,\n",
       "           4.67742092e-02,  5.17036452e-01,  1.06327387e-02,\n",
       "          -2.62724540e-01, -3.07810923e-01, -2.98847461e-01,\n",
       "          -2.54763955e-01, -8.89235048e-02, -2.97769244e-02,\n",
       "          -1.55123383e-02, -1.47678106e-03, -5.93674475e-04,\n",
       "          -2.48844910e-06, -6.95800863e-07, -4.55583182e-08,\n",
       "          -1.08327307e-08,  0.00000000e+00,  0.00000000e+00,\n",
       "           0.00000000e+00,  0.00000000e+00,  0.00000000e+00,\n",
       "           0.00000000e+00,  0.00000000e+00,  0.00000000e+00,\n",
       "           0.00000000e+00,  0.00000000e+00,  0.00000000e+00,\n",
       "           0.00000000e+00]]),\n",
       "  'ipvt': array([2, 1, 3], dtype=int32),\n",
       "  'qtf': array([-3.06024312e-07,  1.33577766e-08,  2.86943379e-05])},\n",
       " 'Both actual and predicted relative reductions in the sum of squares\\n  are at most 0.000000',\n",
       " 1)"
      ]
     },
     "execution_count": 120,
     "metadata": {},
     "output_type": "execute_result"
    }
   ],
   "source": [
    "res3"
   ]
  },
  {
   "cell_type": "code",
   "execution_count": 91,
   "id": "1ea87dff",
   "metadata": {},
   "outputs": [
    {
     "data": {
      "text/plain": [
       "masked_array(data=[--, 0.03477273280950199, -0.1287288747298011, --,\n",
       "                   0.07652104108266816, --, --, 0.20076604963149008,\n",
       "                   0.020782016195516027, --, -0.11210832292164126,\n",
       "                   -0.3422619760649085, --, --, 0.13234255505703996,\n",
       "                   0.2401563719276388, --, -0.09029294666185246,\n",
       "                   0.11161320686430481, 0.15102122721917077,\n",
       "                   -0.16067390775758464, 0.14023479276815742,\n",
       "                   0.26819891931636985, 0.20749805543800504,\n",
       "                   -0.13153144084138627, --, --, -0.20246972713988165, --,\n",
       "                   --, 0.07548477591632655, --, --, -0.06989248899210396,\n",
       "                   0.2119637291890957, -0.2647931959034779,\n",
       "                   0.005512187937790004, --, -0.11866444217425787, --,\n",
       "                   0.34866557574940993, --, 0.10765557346101168,\n",
       "                   0.26624659954730856, --, --, 1.1222428336411066,\n",
       "                   2.0050230224886207, 1.9551657571368004, --,\n",
       "                   2.434065856940856, --, 2.8580173659874295, --,\n",
       "                   1.4640911825107006, 1.259300272913232, --,\n",
       "                   1.162040720478631, --, 0.4796913210763789, --,\n",
       "                   0.16690499694202757, --, -0.055310319727891875,\n",
       "                   0.3541813858100062, -0.014674390777326234,\n",
       "                   0.39433434586056876, --, --, --, --,\n",
       "                   -0.07902490743098628, --, -0.139972582579724,\n",
       "                   -0.18780758938082126, -0.1015600584316466, --, --, --,\n",
       "                   -0.0446199944476659, --, -0.17696021081687952, --,\n",
       "                   -0.0235528646775962, 0.014088375641307306,\n",
       "                   -0.4398534957155629, 0.0784224372405433, --, --,\n",
       "                   0.21585107578523163, 0.027554524722255024, --, --, --,\n",
       "                   0.2592868570317028, --, --, -0.1257559569205101,\n",
       "                   0.317682735156209, --, 0.030437871304231978],\n",
       "             mask=[ True, False, False,  True, False,  True,  True, False,\n",
       "                   False,  True, False, False,  True,  True, False, False,\n",
       "                    True, False, False, False, False, False, False, False,\n",
       "                   False,  True,  True, False,  True,  True, False,  True,\n",
       "                    True, False, False, False, False,  True, False,  True,\n",
       "                   False,  True, False, False,  True,  True, False, False,\n",
       "                   False,  True, False,  True, False,  True, False, False,\n",
       "                    True, False,  True, False,  True, False,  True, False,\n",
       "                   False, False, False,  True,  True,  True,  True, False,\n",
       "                    True, False, False, False,  True,  True,  True, False,\n",
       "                    True, False,  True, False, False, False, False,  True,\n",
       "                    True, False, False,  True,  True,  True, False,  True,\n",
       "                    True, False, False,  True, False],\n",
       "       fill_value=1e+20)"
      ]
     },
     "execution_count": 91,
     "metadata": {},
     "output_type": "execute_result"
    }
   ],
   "source": [
    "y2"
   ]
  },
  {
   "cell_type": "code",
   "execution_count": 122,
   "id": "8a6c167f",
   "metadata": {},
   "outputs": [],
   "source": [
    "from lmfit import Minimizer, Parameters, report_fit"
   ]
  },
  {
   "cell_type": "code",
   "execution_count": 124,
   "id": "7fad5952",
   "metadata": {},
   "outputs": [
    {
     "data": {
      "text/plain": [
       "<function lmfit.printfuncs.report_fit(params, **kws)>"
      ]
     },
     "execution_count": 124,
     "metadata": {},
     "output_type": "execute_result"
    }
   ],
   "source": [
    "report_fit"
   ]
  },
  {
   "cell_type": "code",
   "execution_count": 125,
   "id": "d5ca13ae",
   "metadata": {},
   "outputs": [],
   "source": [
    "x = np.linspace(0, 15, 301)\n",
    "np.random.seed(2021)\n",
    "data = (5.0 * np.sin(2.0*x - 0.1) * np.exp(-x*x*0.025) +\n",
    "        np.random.normal(size=x.size, scale=0.2))"
   ]
  },
  {
   "cell_type": "code",
   "execution_count": 126,
   "id": "258d236a",
   "metadata": {},
   "outputs": [],
   "source": [
    "def fcn2min(params, x, data):\n",
    "    \"\"\"Model a decaying sine wave and subtract data.\"\"\"\n",
    "    amp = params['amp']\n",
    "    shift = params['shift']\n",
    "    omega = params['omega']\n",
    "    decay = params['decay']\n",
    "    model = amp * np.sin(x*omega + shift) * np.exp(-x*x*decay)\n",
    "    return model - data"
   ]
  },
  {
   "cell_type": "code",
   "execution_count": 127,
   "id": "f7032ac5",
   "metadata": {},
   "outputs": [],
   "source": [
    "params = Parameters()\n",
    "params.add('amp', value=10, min=0)\n",
    "params.add('decay', value=0.1)\n",
    "params.add('shift', value=0.0, min=-np.pi/2., max=np.pi/2.)\n",
    "params.add('omega', value=3.0)"
   ]
  },
  {
   "cell_type": "code",
   "execution_count": 128,
   "id": "ae921f64",
   "metadata": {},
   "outputs": [],
   "source": [
    "minner = Minimizer(fcn2min, params, fcn_args=(x, data))"
   ]
  },
  {
   "cell_type": "code",
   "execution_count": 129,
   "id": "9342eb44",
   "metadata": {},
   "outputs": [
    {
     "data": {
      "text/plain": [
       "<lmfit.minimizer.Minimizer at 0x1509beb20>"
      ]
     },
     "execution_count": 129,
     "metadata": {},
     "output_type": "execute_result"
    }
   ],
   "source": [
    "minner"
   ]
  },
  {
   "cell_type": "code",
   "execution_count": 131,
   "id": "0659bb48",
   "metadata": {},
   "outputs": [],
   "source": [
    "result = minner.minimize()\n"
   ]
  },
  {
   "cell_type": "code",
   "execution_count": 132,
   "id": "bfad4ad3",
   "metadata": {},
   "outputs": [
    {
     "data": {
      "text/plain": [
       "'leastsq'"
      ]
     },
     "execution_count": 132,
     "metadata": {},
     "output_type": "execute_result"
    }
   ],
   "source": [
    "result.method"
   ]
  },
  {
   "cell_type": "code",
   "execution_count": 134,
   "id": "0273f1a7",
   "metadata": {},
   "outputs": [],
   "source": [
    "final = data + result.residual"
   ]
  },
  {
   "cell_type": "code",
   "execution_count": 136,
   "id": "c988566a",
   "metadata": {},
   "outputs": [
    {
     "name": "stdout",
     "output_type": "stream",
     "text": [
      "[[Fit Statistics]]\n",
      "    # fitting method   = leastsq\n",
      "    # function evals   = 59\n",
      "    # data points      = 301\n",
      "    # variables        = 4\n",
      "    chi-square         = 12.1867036\n",
      "    reduced chi-square = 0.04103267\n",
      "    Akaike info crit   = -957.236198\n",
      "    Bayesian info crit = -942.407756\n",
      "[[Variables]]\n",
      "    amp:    5.03087926 +/- 0.04005805 (0.80%) (init = 10)\n",
      "    decay:  0.02495454 +/- 4.5395e-04 (1.82%) (init = 0.1)\n",
      "    shift: -0.10264935 +/- 0.01022298 (9.96%) (init = 0)\n",
      "    omega:  2.00026304 +/- 0.00326184 (0.16%) (init = 3)\n",
      "[[Correlations]] (unreported correlations are < 0.100)\n",
      "    C(shift, omega) = -0.785\n",
      "    C(amp, decay)   = 0.584\n",
      "    C(amp, shift)   = -0.118\n"
     ]
    }
   ],
   "source": [
    "report_fit(result)"
   ]
  },
  {
   "cell_type": "code",
   "execution_count": null,
   "id": "ea601663",
   "metadata": {},
   "outputs": [],
   "source": []
  }
 ],
 "metadata": {
  "kernelspec": {
   "display_name": "dfi",
   "language": "python",
   "name": "dfi"
  },
  "language_info": {
   "codemirror_mode": {
    "name": "ipython",
    "version": 3
   },
   "file_extension": ".py",
   "mimetype": "text/x-python",
   "name": "python",
   "nbconvert_exporter": "python",
   "pygments_lexer": "ipython3",
   "version": "3.8.5"
  },
  "toc": {
   "base_numbering": 1,
   "nav_menu": {},
   "number_sections": true,
   "sideBar": true,
   "skip_h1_title": false,
   "title_cell": "Table of Contents",
   "title_sidebar": "Contents",
   "toc_cell": false,
   "toc_position": {
    "height": "calc(100% - 180px)",
    "left": "10px",
    "top": "150px",
    "width": "384px"
   },
   "toc_section_display": true,
   "toc_window_display": true
  }
 },
 "nbformat": 4,
 "nbformat_minor": 5
}
