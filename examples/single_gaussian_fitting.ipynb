{
 "cells": [
  {
   "cell_type": "code",
   "execution_count": 1,
   "id": "a17a8837",
   "metadata": {},
   "outputs": [],
   "source": [
    "from mpdaf.obj import Cube\n",
    "import numpy as np\n",
    "import pandas as pd"
   ]
  },
  {
   "cell_type": "code",
   "execution_count": 2,
   "id": "2cb9d40e",
   "metadata": {},
   "outputs": [],
   "source": [
    "from dfisher_2022a.emission_lines import Halpha\n",
    "from dfisher_2022a.io.cube import FitReadyCube, RestCube, SNRMap\n",
    "from dfisher_2022a.io.line import Line\n",
    "import dfisher_2022a as dfi"
   ]
  },
  {
   "cell_type": "markdown",
   "id": "fce8d330",
   "metadata": {},
   "source": [
    "### Read in test data cube"
   ]
  },
  {
   "cell_type": "code",
   "execution_count": 3,
   "id": "fb8f501f",
   "metadata": {},
   "outputs": [],
   "source": [
    "path = \"../dfisher_2022a/tests/data/\"\n",
    "fits_file = path + \"single_gaussian_muse_size.fits\"\n",
    "res_file = path + \"eso338_test_run_6563_simple_model.txt\""
   ]
  },
  {
   "cell_type": "code",
   "execution_count": 4,
   "id": "0f6a1e7a",
   "metadata": {},
   "outputs": [],
   "source": [
    "cube = Cube(fits_file)"
   ]
  },
  {
   "cell_type": "code",
   "execution_count": 5,
   "id": "b2e09b1a",
   "metadata": {},
   "outputs": [
    {
     "data": {
      "text/plain": [
       "(34, 368, 331)"
      ]
     },
     "execution_count": 5,
     "metadata": {},
     "output_type": "execute_result"
    }
   ],
   "source": [
    "cube.shape"
   ]
  },
  {
   "cell_type": "code",
   "execution_count": 6,
   "id": "51c397b0",
   "metadata": {},
   "outputs": [
    {
     "data": {
      "text/plain": [
       "6603.8486328125"
      ]
     },
     "execution_count": 6,
     "metadata": {},
     "output_type": "execute_result"
    }
   ],
   "source": [
    "cube.wave.get_crval()"
   ]
  },
  {
   "cell_type": "markdown",
   "id": "4e246eae",
   "metadata": {},
   "source": [
    "### Settings"
   ]
  },
  {
   "cell_type": "code",
   "execution_count": 7,
   "id": "4920a085",
   "metadata": {},
   "outputs": [],
   "source": [
    "Z = 0.009482649107040553\n",
    "SNR_THRESHOLD = 5"
   ]
  },
  {
   "cell_type": "markdown",
   "id": "8b1ffd2d",
   "metadata": {},
   "source": [
    "### Prepare data for fitting"
   ]
  },
  {
   "cell_type": "markdown",
   "id": "70defa18",
   "metadata": {},
   "source": [
    "#### 1. de-redshift"
   ]
  },
  {
   "cell_type": "code",
   "execution_count": 8,
   "id": "d5b389df",
   "metadata": {},
   "outputs": [],
   "source": [
    "rcube = RestCube(cube, Z)"
   ]
  },
  {
   "cell_type": "code",
   "execution_count": 9,
   "id": "d5f94b28",
   "metadata": {},
   "outputs": [
    {
     "data": {
      "text/plain": [
       "0.009482649107040553"
      ]
     },
     "execution_count": 9,
     "metadata": {},
     "output_type": "execute_result"
    }
   ],
   "source": [
    "rcube.z"
   ]
  },
  {
   "cell_type": "code",
   "execution_count": 10,
   "id": "c878ae2f",
   "metadata": {},
   "outputs": [
    {
     "data": {
      "text/plain": [
       "6541.814897615204"
      ]
     },
     "execution_count": 10,
     "metadata": {},
     "output_type": "execute_result"
    }
   ],
   "source": [
    "rcube._restwave"
   ]
  },
  {
   "cell_type": "code",
   "execution_count": 11,
   "id": "818aface",
   "metadata": {},
   "outputs": [
    {
     "data": {
      "text/plain": [
       "6541.814897615204"
      ]
     },
     "execution_count": 11,
     "metadata": {},
     "output_type": "execute_result"
    }
   ],
   "source": [
    "rcube.restcube.wave.get_crval()"
   ]
  },
  {
   "cell_type": "markdown",
   "id": "834d258b",
   "metadata": {},
   "source": [
    "2. #### select fitting region"
   ]
  },
  {
   "cell_type": "code",
   "execution_count": 12,
   "id": "f6810a1a",
   "metadata": {},
   "outputs": [],
   "source": [
    "fline = Line(Halpha)"
   ]
  },
  {
   "cell_type": "code",
   "execution_count": 13,
   "id": "ebbb62b1",
   "metadata": {},
   "outputs": [
    {
     "name": "stdout",
     "output_type": "stream",
     "text": [
      "6547.819 6562.819 6577.819\n"
     ]
    }
   ],
   "source": [
    "print(fline.low, fline.line, fline.high)"
   ]
  },
  {
   "cell_type": "code",
   "execution_count": 14,
   "id": "31b6c849",
   "metadata": {},
   "outputs": [
    {
     "data": {
      "text/plain": [
       "28.804001907823775"
      ]
     },
     "execution_count": 14,
     "metadata": {},
     "output_type": "execute_result"
    }
   ],
   "source": [
    "rcube.restcube.wave.pixel(6577.8199)"
   ]
  },
  {
   "cell_type": "code",
   "execution_count": 15,
   "id": "89d40013",
   "metadata": {},
   "outputs": [],
   "source": [
    "frcube = FitReadyCube(rcube, fline)"
   ]
  },
  {
   "cell_type": "code",
   "execution_count": 16,
   "id": "16afd3e9",
   "metadata": {},
   "outputs": [
    {
     "data": {
      "text/plain": [
       "5"
      ]
     },
     "execution_count": 16,
     "metadata": {},
     "output_type": "execute_result"
    }
   ],
   "source": [
    "frcube.low_index"
   ]
  },
  {
   "cell_type": "code",
   "execution_count": 17,
   "id": "9eff6b76",
   "metadata": {},
   "outputs": [
    {
     "data": {
      "text/plain": [
       "(25, 368, 331)"
      ]
     },
     "execution_count": 17,
     "metadata": {},
     "output_type": "execute_result"
    }
   ],
   "source": [
    "frcube.cube.shape"
   ]
  },
  {
   "cell_type": "markdown",
   "id": "8fa13a9b",
   "metadata": {},
   "source": [
    "#### 3. get snr map"
   ]
  },
  {
   "cell_type": "code",
   "execution_count": 18,
   "id": "365bfc5e",
   "metadata": {},
   "outputs": [],
   "source": [
    "snrmap = SNRMap(rcube.restcube, SNR_THRESHOLD)"
   ]
  },
  {
   "cell_type": "code",
   "execution_count": 19,
   "id": "6ea9a2ab",
   "metadata": {},
   "outputs": [],
   "source": [
    "snr = snrmap.snr"
   ]
  },
  {
   "cell_type": "code",
   "execution_count": 20,
   "id": "f6655ace",
   "metadata": {},
   "outputs": [
    {
     "data": {
      "text/plain": [
       "masked"
      ]
     },
     "execution_count": 20,
     "metadata": {},
     "output_type": "execute_result"
    }
   ],
   "source": [
    "snr[80,80]"
   ]
  },
  {
   "cell_type": "code",
   "execution_count": 21,
   "id": "aa40e7ee",
   "metadata": {},
   "outputs": [],
   "source": [
    "smap = snrmap.map"
   ]
  },
  {
   "cell_type": "code",
   "execution_count": 22,
   "id": "39634126",
   "metadata": {},
   "outputs": [
    {
     "data": {
      "text/plain": [
       "masked"
      ]
     },
     "execution_count": 22,
     "metadata": {},
     "output_type": "execute_result"
    }
   ],
   "source": [
    "smap.data[80,80]"
   ]
  },
  {
   "cell_type": "code",
   "execution_count": 23,
   "id": "ebf9cd15",
   "metadata": {},
   "outputs": [
    {
     "data": {
      "text/plain": [
       "(368, 331)"
      ]
     },
     "execution_count": 23,
     "metadata": {},
     "output_type": "execute_result"
    }
   ],
   "source": [
    "snr.shape"
   ]
  },
  {
   "cell_type": "markdown",
   "id": "b0caec89",
   "metadata": {},
   "source": [
    "#### get fit ready cube"
   ]
  },
  {
   "cell_type": "code",
   "execution_count": 24,
   "id": "854e68ce",
   "metadata": {},
   "outputs": [],
   "source": [
    "ffrcube = FitReadyCube(rcube, fline, SNR_THRESHOLD)"
   ]
  },
  {
   "cell_type": "code",
   "execution_count": 25,
   "id": "62bd66f4",
   "metadata": {},
   "outputs": [
    {
     "data": {
      "text/plain": [
       "masked_array(data=[12.175702095031738, 11.767293930053711,\n",
       "                   12.22632884979248, 11.773338317871094,\n",
       "                   11.761051177978516, 11.782549858093262,\n",
       "                   12.78128719329834, 11.9537935256958,\n",
       "                   14.307246208190918, 30.050148010253906,\n",
       "                   87.67877960205078, 187.4704132080078,\n",
       "                   241.05686950683594, 179.9756317138672,\n",
       "                   81.16941833496094, 27.804880142211914,\n",
       "                   14.032210350036621, 11.993968963623047,\n",
       "                   11.892915725708008, 12.09134578704834,\n",
       "                   11.779748916625977, 12.0618257522583,\n",
       "                   11.765948295593262, 11.759703636169434,\n",
       "                   12.781892776489258],\n",
       "             mask=[False, False, False, False, False, False, False, False,\n",
       "                   False, False, False, False, False, False, False, False,\n",
       "                   False, False, False, False, False, False, False, False,\n",
       "                   False],\n",
       "       fill_value=1e+20)"
      ]
     },
     "execution_count": 25,
     "metadata": {},
     "output_type": "execute_result"
    }
   ],
   "source": [
    "ffrcube.cube.data[:,150,150]"
   ]
  },
  {
   "cell_type": "markdown",
   "id": "1a929225",
   "metadata": {},
   "source": [
    "### Fit the data"
   ]
  },
  {
   "cell_type": "code",
   "execution_count": 26,
   "id": "58c180a8",
   "metadata": {},
   "outputs": [],
   "source": [
    "model = dfi.models.Lm_Const_1GaussModel"
   ]
  },
  {
   "cell_type": "code",
   "execution_count": 27,
   "id": "8772dec6",
   "metadata": {},
   "outputs": [],
   "source": [
    "cube_for_fit = ffrcube.cube"
   ]
  },
  {
   "cell_type": "code",
   "execution_count": 31,
   "id": "e01eca7b",
   "metadata": {},
   "outputs": [],
   "source": [
    "small = cube_for_fit[:,140:150, 140:150]"
   ]
  },
  {
   "cell_type": "markdown",
   "id": "c1bd5bd5",
   "metadata": {},
   "source": [
    "#### Test with shared memory"
   ]
  },
  {
   "cell_type": "code",
   "execution_count": 29,
   "id": "8704520a",
   "metadata": {},
   "outputs": [],
   "source": [
    "c = cube_for_fit._data.reshape(25,368*331)"
   ]
  },
  {
   "cell_type": "code",
   "execution_count": 30,
   "id": "cd896595",
   "metadata": {},
   "outputs": [],
   "source": [
    "f = cube_for_fit._data"
   ]
  },
  {
   "cell_type": "code",
   "execution_count": 31,
   "id": "0846cc25",
   "metadata": {},
   "outputs": [
    {
     "data": {
      "text/plain": [
       "(25, 368, 331)"
      ]
     },
     "execution_count": 31,
     "metadata": {},
     "output_type": "execute_result"
    }
   ],
   "source": [
    "f.shape"
   ]
  },
  {
   "cell_type": "code",
   "execution_count": 32,
   "id": "9a811cf6",
   "metadata": {},
   "outputs": [
    {
     "data": {
      "text/plain": [
       "array([ 4.16298246,  4.20755577,  0.65867424,  2.57399011,  4.33883619,\n",
       "        2.72161055, 10.93874931,  2.34243345,  1.76895237,  1.26190317,\n",
       "        2.42319226,  0.81769162, 10.33891964,  2.76214838,  2.57704401,\n",
       "        2.45183587,  1.8747642 ,  6.48021841,  0.26101619,  6.09778404,\n",
       "       13.97373962,  1.92961216,  2.3155334 ,  0.33040407,  5.14313889])"
      ]
     },
     "execution_count": 32,
     "metadata": {},
     "output_type": "execute_result"
    }
   ],
   "source": [
    "f[:,3,7]"
   ]
  },
  {
   "cell_type": "code",
   "execution_count": 33,
   "id": "c19a6462",
   "metadata": {},
   "outputs": [
    {
     "data": {
      "text/plain": [
       "array([ 4.16298246,  4.20755577,  0.65867424,  2.57399011,  4.33883619,\n",
       "        2.72161055, 10.93874931,  2.34243345,  1.76895237,  1.26190317,\n",
       "        2.42319226,  0.81769162, 10.33891964,  2.76214838,  2.57704401,\n",
       "        2.45183587,  1.8747642 ,  6.48021841,  0.26101619,  6.09778404,\n",
       "       13.97373962,  1.92961216,  2.3155334 ,  0.33040407,  5.14313889])"
      ]
     },
     "execution_count": 33,
     "metadata": {},
     "output_type": "execute_result"
    }
   ],
   "source": [
    "c[:,1000]"
   ]
  },
  {
   "cell_type": "code",
   "execution_count": 34,
   "id": "5a7a24f4",
   "metadata": {},
   "outputs": [],
   "source": [
    "d = np.zeros((3,3))"
   ]
  },
  {
   "cell_type": "code",
   "execution_count": 35,
   "id": "51fdcb2d",
   "metadata": {},
   "outputs": [],
   "source": [
    "d[:] = np.nan"
   ]
  },
  {
   "cell_type": "code",
   "execution_count": 36,
   "id": "b65bec5e",
   "metadata": {},
   "outputs": [
    {
     "data": {
      "text/plain": [
       "array([[nan, nan, nan],\n",
       "       [nan, nan, nan],\n",
       "       [nan, nan, nan]])"
      ]
     },
     "execution_count": 36,
     "metadata": {},
     "output_type": "execute_result"
    }
   ],
   "source": [
    "d"
   ]
  },
  {
   "cell_type": "code",
   "execution_count": 37,
   "id": "bbba7895",
   "metadata": {},
   "outputs": [],
   "source": [
    "b = np.array([[[0,0,0],[1,1,1],[2,2,2]],[[3,3,3],[4,4,4],[5,5,5]]])"
   ]
  },
  {
   "cell_type": "code",
   "execution_count": 38,
   "id": "0134a5ae",
   "metadata": {},
   "outputs": [
    {
     "data": {
      "text/plain": [
       "(2, 3, 3)"
      ]
     },
     "execution_count": 38,
     "metadata": {},
     "output_type": "execute_result"
    }
   ],
   "source": [
    "b.shape"
   ]
  },
  {
   "cell_type": "code",
   "execution_count": 39,
   "id": "1de98972",
   "metadata": {},
   "outputs": [
    {
     "data": {
      "text/plain": [
       "array([[[0, 0, 0],\n",
       "        [1, 1, 1],\n",
       "        [2, 2, 2]],\n",
       "\n",
       "       [[3, 3, 3],\n",
       "        [4, 4, 4],\n",
       "        [5, 5, 5]]])"
      ]
     },
     "execution_count": 39,
     "metadata": {},
     "output_type": "execute_result"
    }
   ],
   "source": [
    "b"
   ]
  },
  {
   "cell_type": "code",
   "execution_count": 40,
   "id": "bb030da7",
   "metadata": {},
   "outputs": [],
   "source": [
    "c = b.reshape(2,9)"
   ]
  },
  {
   "cell_type": "code",
   "execution_count": 41,
   "id": "e0617476",
   "metadata": {},
   "outputs": [
    {
     "data": {
      "text/plain": [
       "array([0, 0, 0])"
      ]
     },
     "execution_count": 41,
     "metadata": {},
     "output_type": "execute_result"
    }
   ],
   "source": [
    "b[0,0,:]"
   ]
  },
  {
   "cell_type": "code",
   "execution_count": 42,
   "id": "cb63a967",
   "metadata": {},
   "outputs": [
    {
     "data": {
      "text/plain": [
       "array([1, 4])"
      ]
     },
     "execution_count": 42,
     "metadata": {},
     "output_type": "execute_result"
    }
   ],
   "source": [
    "c[:,4]"
   ]
  },
  {
   "cell_type": "code",
   "execution_count": 34,
   "id": "8fe2c446",
   "metadata": {},
   "outputs": [],
   "source": [
    "datac = np.ctypeslib.as_ctypes(cube_for_fit.data)\n",
    "global shared_data\n",
    "shared_data = sharedctypes.RawArray(datac._type_, datac)"
   ]
  },
  {
   "cell_type": "code",
   "execution_count": 37,
   "id": "8d272a84",
   "metadata": {},
   "outputs": [
    {
     "data": {
      "text/plain": [
       "numpy.ma.core.MaskedArray"
      ]
     },
     "execution_count": 37,
     "metadata": {},
     "output_type": "execute_result"
    }
   ],
   "source": [
    "type(cube_for_fit.data)"
   ]
  },
  {
   "cell_type": "code",
   "execution_count": 38,
   "id": "57933308",
   "metadata": {},
   "outputs": [],
   "source": [
    "ddata = np.ctypeslib.as_array(shared_data)"
   ]
  },
  {
   "cell_type": "code",
   "execution_count": 42,
   "id": "ef7810ad",
   "metadata": {},
   "outputs": [
    {
     "data": {
      "text/plain": [
       "array([ 4.16298246,  4.20755577,  0.65867424,  2.57399011,  4.33883619,\n",
       "        2.72161055, 10.93874931,  2.34243345,  1.76895237,  1.26190317,\n",
       "        2.42319226,  0.81769162, 10.33891964,  2.76214838,  2.57704401,\n",
       "        2.45183587,  1.8747642 ,  6.48021841,  0.26101619,  6.09778404,\n",
       "       13.97373962,  1.92961216,  2.3155334 ,  0.33040407,  5.14313889])"
      ]
     },
     "execution_count": 42,
     "metadata": {},
     "output_type": "execute_result"
    }
   ],
   "source": [
    "ddata[:,3,7]"
   ]
  },
  {
   "cell_type": "code",
   "execution_count": 44,
   "id": "4439e7b5",
   "metadata": {},
   "outputs": [],
   "source": [
    "cdata = cube_for_fit.data.ctypes"
   ]
  },
  {
   "cell_type": "code",
   "execution_count": 52,
   "id": "4787e3b8",
   "metadata": {},
   "outputs": [
    {
     "data": {
      "text/plain": [
       "numpy.core._internal._ctypes"
      ]
     },
     "execution_count": 52,
     "metadata": {},
     "output_type": "execute_result"
    }
   ],
   "source": [
    "type(cdata)"
   ]
  },
  {
   "cell_type": "code",
   "execution_count": 53,
   "id": "bf334cca",
   "metadata": {},
   "outputs": [
    {
     "data": {
      "text/plain": [
       "c_double_Array_331_Array_368_Array_25"
      ]
     },
     "execution_count": 53,
     "metadata": {},
     "output_type": "execute_result"
    }
   ],
   "source": [
    "type(datac)"
   ]
  },
  {
   "cell_type": "code",
   "execution_count": 55,
   "id": "71b7b610",
   "metadata": {},
   "outputs": [
    {
     "ename": "TypeError",
     "evalue": "RawArray() missing 1 required positional argument: 'size_or_initializer'",
     "output_type": "error",
     "traceback": [
      "\u001b[0;31m---------------------------------------------------------------------------\u001b[0m",
      "\u001b[0;31mTypeError\u001b[0m                                 Traceback (most recent call last)",
      "Input \u001b[0;32mIn [55]\u001b[0m, in \u001b[0;36m<cell line: 4>\u001b[0;34m()\u001b[0m\n\u001b[1;32m      2\u001b[0m \u001b[38;5;66;03m# cdatac = np.ctypeslib.as_ctypes(cdata)\u001b[39;00m\n\u001b[1;32m      3\u001b[0m \u001b[38;5;28;01mglobal\u001b[39;00m shared_cdata\n\u001b[0;32m----> 4\u001b[0m shared_cdata \u001b[38;5;241m=\u001b[39m \u001b[43msharedctypes\u001b[49m\u001b[38;5;241;43m.\u001b[39;49m\u001b[43mRawArray\u001b[49m\u001b[43m(\u001b[49m\u001b[43mcdata\u001b[49m\u001b[43m)\u001b[49m\n",
      "\u001b[0;31mTypeError\u001b[0m: RawArray() missing 1 required positional argument: 'size_or_initializer'"
     ]
    }
   ],
   "source": [
    "import ctypes\n",
    "# cdatac = np.ctypeslib.as_ctypes(cdata)\n",
    "global shared_cdata\n",
    "shared_cdata = sharedctypes.RawArray(cdata)"
   ]
  },
  {
   "cell_type": "code",
   "execution_count": null,
   "id": "18b03f46",
   "metadata": {},
   "outputs": [],
   "source": [
    "rr = np.ctypeslib.as_array(shared_data)"
   ]
  },
  {
   "cell_type": "code",
   "execution_count": null,
   "id": "2e8f4d29",
   "metadata": {},
   "outputs": [],
   "source": [
    "rr"
   ]
  },
  {
   "cell_type": "code",
   "execution_count": null,
   "id": "e7be4551",
   "metadata": {},
   "outputs": [],
   "source": [
    "shared_data"
   ]
  },
  {
   "cell_type": "code",
   "execution_count": null,
   "id": "1009b913",
   "metadata": {},
   "outputs": [],
   "source": [
    "cube_for_fit.data.__array_interface__"
   ]
  },
  {
   "cell_type": "code",
   "execution_count": 33,
   "id": "7f7b3d2e",
   "metadata": {},
   "outputs": [],
   "source": [
    "from multiprocessing import Pool, RawArray, sharedctypes, Process"
   ]
  },
  {
   "cell_type": "code",
   "execution_count": 46,
   "id": "79885efa",
   "metadata": {},
   "outputs": [
    {
     "data": {
      "text/plain": [
       "numpy.ma.core.MaskedArray"
      ]
     },
     "execution_count": 46,
     "metadata": {},
     "output_type": "execute_result"
    }
   ],
   "source": [
    "type(small.data)"
   ]
  },
  {
   "cell_type": "code",
   "execution_count": 32,
   "id": "52682443",
   "metadata": {},
   "outputs": [],
   "source": [
    "fc = dfi.fits.base.FitCube(small, model)"
   ]
  },
  {
   "cell_type": "code",
   "execution_count": 34,
   "id": "27b20957",
   "metadata": {
    "scrolled": true
   },
   "outputs": [
    {
     "data": {
      "text/plain": [
       "(400, 1)"
      ]
     },
     "execution_count": 34,
     "metadata": {},
     "output_type": "execute_result"
    }
   ],
   "source": [
    "fc.res.shape"
   ]
  },
  {
   "cell_type": "code",
   "execution_count": 31,
   "id": "314e305c",
   "metadata": {},
   "outputs": [
    {
     "data": {
      "text/plain": [
       "(25, 10, 10)"
      ]
     },
     "execution_count": 31,
     "metadata": {},
     "output_type": "execute_result"
    }
   ],
   "source": [
    "fc.data.shape"
   ]
  },
  {
   "cell_type": "code",
   "execution_count": 37,
   "id": "c54867df",
   "metadata": {},
   "outputs": [
    {
     "name": "stdout",
     "output_type": "stream",
     "text": [
      "subprocess:  4732  pixel:  0 1\n",
      "subprocess:  4732  pixel:  0 1\n",
      "subprocess:  4732  pixel:  0 1\n",
      "subprocess:  4732  pixel:  0 1\n",
      "subprocess:  4732  pixel:  0 1\n",
      "subprocess:  4732  pixel:  0 1\n",
      "subprocess:  4732  pixel:  0 1\n",
      "subprocess:  4732  pixel:  0 1\n",
      "subprocess:  4732  pixel:  0 1\n",
      "subprocess:  4732  pixel:  0 1\n",
      "subprocess:  4732  pixel:  0 1\n",
      "subprocess:  4732  pixel:  0 1\n",
      "subprocess:  4732  pixel:  0 1\n",
      "subprocess:  4732  pixel:  0 1\n",
      "subprocess:  4732  pixel:  0 1\n",
      "subprocess:  4732  pixel:  0 1\n",
      "subprocess:  4732  pixel:  0 1\n",
      "subprocess:  4732  pixel:  0 1\n",
      "subprocess:  4732  pixel:  0 1\n",
      "subprocess:  4732  pixel:  0 1\n",
      "subprocess:  4732  pixel:  0 1\n",
      "subprocess:  4732  pixel:  0 1\n",
      "subprocess:  4732  pixel:  0 1\n",
      "subprocess:  4732  pixel:  0 1\n",
      "subprocess:  4732  pixel:  0 1\n",
      "subprocess:  4732  pixel:  0 1\n",
      "subprocess:  4732  pixel:  0 1\n",
      "subprocess:  4732  pixel:  0 1\n",
      "subprocess:  4732  pixel:  0 1\n",
      "subprocess:  4732  pixel:  0 1\n",
      "subprocess:  4732  pixel:  0 1\n",
      "subprocess:  4732  pixel:  0 1\n",
      "subprocess:  4732  pixel:  0 1\n",
      "subprocess:  4732  pixel:  0 1\n",
      "subprocess:  4732  pixel:  0 1\n",
      "subprocess:  4732  pixel:  0 1\n",
      "subprocess:  4732  pixel:  0 1\n",
      "subprocess:  4732  pixel:  0 1\n",
      "subprocess:  4732  pixel:  0 1\n",
      "subprocess:  4732  pixel:  0 1\n",
      "subprocess:  4732  pixel:  0 1\n",
      "subprocess:  4732  pixel:  0 1\n",
      "subprocess:  4732  pixel:  0 1\n",
      "subprocess:  4732  pixel:  0 1\n",
      "subprocess:  4732  pixel:  0 1\n",
      "subprocess:  4732  pixel:  0 1\n",
      "subprocess:  4732  pixel:  0 1\n",
      "subprocess:  4732  pixel:  0 1\n",
      "subprocess:  4732  pixel:  0 1\n",
      "subprocess:  4732  pixel:  0 1\n",
      "subprocess:  4732  pixel:  0 1\n",
      "subprocess:  4732  pixel:  0 1\n",
      "subprocess:  4732  pixel:  0 1\n",
      "subprocess:  4732  pixel:  0 1\n",
      "subprocess:  4732  pixel:  0 1\n",
      "subprocess:  4732  pixel:  0 1\n",
      "subprocess:  4732  pixel:  0 1\n",
      "subprocess:  4732  pixel:  0 1\n",
      "subprocess:  4732  pixel:  0 1\n",
      "subprocess:  4732  pixel:  0 1\n",
      "subprocess:  4732  pixel:  0 1\n",
      "subprocess:  4732  pixel:  0 1\n",
      "subprocess:  4732  pixel:  0 1\n",
      "subprocess:  4732  pixel:  0 1\n",
      "subprocess:  4732  pixel:  0 1\n",
      "subprocess:  4732  pixel:  0 1\n",
      "subprocess:  4732  pixel:  0 1\n",
      "subprocess:  4732  pixel:  0 1\n",
      "subprocess:  4732  pixel:  0 1\n",
      "subprocess:  4732  pixel:  0 1\n",
      "subprocess:  4732  pixel:  0 1\n",
      "subprocess:  4732  pixel:  0 1\n",
      "subprocess:  4732  pixel:  0 1\n",
      "subprocess:  4732  pixel:  0 1\n",
      "subprocess:  4732  pixel:  0 1\n",
      "subprocess:  4732  pixel:  0 1\n",
      "subprocess:  4732  pixel:  0 1\n",
      "subprocess:  4732  pixel:  0 1\n",
      "subprocess:  4732  pixel:  0 1\n",
      "subprocess:  4732  pixel:  0 1\n",
      "subprocess:  4732  pixel:  0 1\n",
      "42 ms ± 3.91 ms per loop (mean ± std. dev. of 7 runs, 10 loops each)\n"
     ]
    }
   ],
   "source": [
    "%%timeit\n",
    "c = fc.fit_single_spaxel(0,1)"
   ]
  },
  {
   "cell_type": "code",
   "execution_count": 33,
   "id": "ed2eddb4",
   "metadata": {},
   "outputs": [
    {
     "name": "stdout",
     "output_type": "stream",
     "text": [
      "subprocess:  4931  pixel:  20\n",
      "subprocess: subprocess:   4930 4932 pixel:   subprocess:  4933  pixel:  60\n",
      "0subprocess:  4933  pixel: start pooling\n",
      " 61\n",
      "\n",
      "subprocess:  4930  pixel:  pixel: \n",
      " 40subprocess:  4931 subprocess:   pixel: 4932   pixel:  2141\n",
      "\n",
      " 1\n",
      "subprocess:  4933  pixel:  62\n",
      "subprocess: subprocess:   4931 4930 pixel:    pixel: 22 2\n",
      "\n",
      "subprocess:  4932  pixel:  42\n",
      "subprocess:  4933  pixel:  63\n",
      "subprocess: subprocess:  4930   pixel: 4931  3\n",
      "subprocess:  4932  pixel:  43\n",
      " pixel:  23\n",
      "subprocess:  4933  pixel:  64subprocess: \n",
      " 4930  pixel:  4\n",
      "subprocess:  4931  pixel:  24\n",
      "subprocess:  4932  pixel:  44\n",
      "subprocess:  4933  pixel:  65\n",
      "subprocess: subprocess: subprocess:  4932  pixel:  45\n",
      " 4930  pixel:  5\n",
      " 4931  pixel:  25\n",
      "subprocess:  4933  pixel:  66\n",
      "subprocess:  4930  pixel:  6\n",
      "subprocess:  4931  pixel:  26subprocess:  4932  pixel:  46\n",
      "subprocess:  4932  pixel:  47\n",
      "\n",
      "subprocess:  4930subprocess:   pixel:   7\n",
      "4933  pixel:  67subprocess: \n",
      " 4930  pixel:  8\n",
      "subprocess:  4933  pixel:  68\n",
      "subprocess:  4931  pixel:  27\n",
      "subprocess:  4932  pixel:  48\n",
      "subprocess:  4931 subprocess:  4933  pixel:  69\n",
      "subprocess:  4930  pixel:  9\n",
      " pixel:  28\n",
      "subprocess:  4932  pixel:  49\n",
      "subprocess:  4931  pixel:  29\n",
      "subprocess:  subprocess:  4931  pixel: 4933 30 \n",
      " pixel:  70subprocess:  4931  pixel: \n",
      " 31\n",
      "subprocess:  4930  pixel:  subprocess:  4932  pixel:  1050\n",
      "\n",
      "subprocess:  4932  pixel:  51subprocess: \n",
      " 4930  pixel:  11\n",
      "subprocess:  4933  pixel:  71\n",
      "subprocess:  4933  pixel:  72\n",
      "subprocess:  4931  pixel:  32\n",
      "subprocess:  4930  pixel:  12\n",
      "subprocess:  4932  pixel:  52\n",
      "subprocess:  4933 subprocess:  4931  pixel:  33\n",
      "subprocess:  4930  pixel:  13\n",
      " pixel: subprocess:   734932\n",
      "  pixel:  53\n",
      "subprocess:  4933subprocess:  4930  pixel:  14  pixel:  74\n",
      "subprocess:  subprocess: 4932 4933  pixel:   75\n",
      " pixel:  54\n",
      "subprocess:  4933  pixel:  76\n",
      "subprocess:  4932  pixel: subprocess:   4933 55 pixel:  77\n",
      "\n",
      "subprocess:  \n",
      "4931  pixel:  34\n",
      "subprocess:  4930 subprocess:  pixel:  15 \n",
      "4931  pixel:  35\n",
      "subprocess:  4930  pixel:  16\n",
      "subprocess: subprocess:  4932  pixel:  56\n",
      " 4931  pixel:  36\n",
      "subprocess:  4933  pixel: subprocess:   4931 78 pixel:  \n",
      "37\n",
      "subprocess: subprocess:  4931   pixel: 4933 38 \n",
      " pixel:  79\n",
      "subprocess:  4932  pixel:  subprocess: 57\n",
      " 4930  pixel:  subprocess: 17 4932\n",
      "  pixel:  58\n",
      "subprocess:  4933subprocess:   pixel:   493080\n",
      "  pixel:  18\n",
      "subprocess:  subprocess:  4932  pixel:  59\n",
      "4931  pixel:  39\n",
      "subprocess:  4930  pixel: subprocess:  19\n",
      " 4933  pixel:  81\n",
      "subprocess:  4933  pixel:  82\n",
      "subprocess:  4933  pixel:  83\n",
      "subprocess:  4933  pixel:  84\n",
      "subprocess:  4933  pixel:  85\n",
      "subprocess:  4933  pixel:  86\n",
      "subprocess:  4933  pixel:  87\n",
      "subprocess:  4933  pixel:  88\n",
      "subprocess:  4933  pixel:  89\n",
      "subprocess:  4933  pixel:  90\n",
      "subprocess:  4933  pixel:  91\n",
      "subprocess:  4933  pixel:  92\n",
      "subprocess:  4933  pixel:  93\n",
      "subprocess:  4933  pixel:  94\n",
      "subprocess:  4933  pixel:  95\n",
      "subprocess:  4933  pixel:  96\n",
      "subprocess:  4933  pixel:  97\n",
      "subprocess:  4933  pixel:  98\n",
      "subprocess:  4933  pixel:  99\n",
      "finish pooling\n",
      "CPU times: user 499 ms, sys: 292 ms, total: 792 ms\n",
      "Wall time: 5.66 s\n"
     ]
    }
   ],
   "source": [
    "%%time\n",
    "\n",
    "fc.fit_all(4,20)"
   ]
  },
  {
   "cell_type": "code",
   "execution_count": 37,
   "id": "71d6b216",
   "metadata": {},
   "outputs": [
    {
     "data": {
      "text/plain": [
       "109.75588798522949"
      ]
     },
     "execution_count": 37,
     "metadata": {},
     "output_type": "execute_result"
    }
   ],
   "source": [
    "fc.records.sum()"
   ]
  },
  {
   "cell_type": "code",
   "execution_count": 32,
   "id": "a4660fb8",
   "metadata": {},
   "outputs": [
    {
     "data": {
      "text/plain": [
       "array([0., 0., 0.])"
      ]
     },
     "execution_count": 32,
     "metadata": {},
     "output_type": "execute_result"
    }
   ],
   "source": [
    "np.zeros(3)"
   ]
  },
  {
   "cell_type": "code",
   "execution_count": 40,
   "id": "82d3aed3",
   "metadata": {},
   "outputs": [],
   "source": [
    "tt = fc.res[\"Result\"][0]"
   ]
  },
  {
   "cell_type": "code",
   "execution_count": 42,
   "id": "ff8bb6d1",
   "metadata": {},
   "outputs": [
    {
     "name": "stdout",
     "output_type": "stream",
     "text": [
      "CPU times: user 5.23 s, sys: 535 ms, total: 5.77 s\n",
      "Wall time: 14.3 s\n"
     ]
    }
   ],
   "source": [
    "%%time\n",
    "fc.extract_info()"
   ]
  },
  {
   "cell_type": "code",
   "execution_count": 37,
   "id": "f7271644",
   "metadata": {},
   "outputs": [],
   "source": [
    "df = fc.res"
   ]
  },
  {
   "cell_type": "code",
   "execution_count": 38,
   "id": "d1fa675f",
   "metadata": {},
   "outputs": [
    {
     "data": {
      "text/plain": [
       "pandas.core.frame.DataFrame"
      ]
     },
     "execution_count": 38,
     "metadata": {},
     "output_type": "execute_result"
    }
   ],
   "source": [
    "type(df)"
   ]
  },
  {
   "cell_type": "code",
   "execution_count": 41,
   "id": "304f6181",
   "metadata": {},
   "outputs": [],
   "source": [
    "tt = df.drop(axis=1, columns=\"Result\")"
   ]
  },
  {
   "cell_type": "code",
   "execution_count": 53,
   "id": "521578c8",
   "metadata": {},
   "outputs": [],
   "source": [
    "tt.to_csv(\"fitting_result.txt\", index=False, sep='\\t', float_format='%.5f')"
   ]
  },
  {
   "cell_type": "code",
   "execution_count": 37,
   "id": "9f2b609f",
   "metadata": {},
   "outputs": [],
   "source": [
    "class Wec():\n",
    "    def __init__(self):\n",
    "        pass\n",
    "    def add_name(self,name):\n",
    "        self.name = name"
   ]
  },
  {
   "cell_type": "code",
   "execution_count": 51,
   "id": "f692860c",
   "metadata": {},
   "outputs": [
    {
     "ename": "TypeError",
     "evalue": "vars() argument must have __dict__ attribute",
     "output_type": "error",
     "traceback": [
      "\u001b[0;31m---------------------------------------------------------------------------\u001b[0m",
      "\u001b[0;31mTypeError\u001b[0m                                 Traceback (most recent call last)",
      "Input \u001b[0;32mIn [51]\u001b[0m, in \u001b[0;36m<cell line: 1>\u001b[0;34m()\u001b[0m\n\u001b[0;32m----> 1\u001b[0m \u001b[38;5;28;43mvars\u001b[39;49m\u001b[43m(\u001b[49m\u001b[43mWec\u001b[49m\u001b[43m(\u001b[49m\u001b[43m)\u001b[49m\u001b[38;5;241;43m.\u001b[39;49m\u001b[43madd_name\u001b[49m\u001b[43m(\u001b[49m\u001b[38;5;124;43m'\u001b[39;49m\u001b[38;5;124;43mtt\u001b[39;49m\u001b[38;5;124;43m'\u001b[39;49m\u001b[43m)\u001b[49m\u001b[43m)\u001b[49m\n",
      "\u001b[0;31mTypeError\u001b[0m: vars() argument must have __dict__ attribute"
     ]
    }
   ],
   "source": [
    "vars(Wec().add_name('tt'))"
   ]
  },
  {
   "cell_type": "code",
   "execution_count": 45,
   "id": "ea7b0ff6",
   "metadata": {},
   "outputs": [],
   "source": [
    "a.add_name('tt')"
   ]
  },
  {
   "cell_type": "code",
   "execution_count": 46,
   "id": "0fc70e28",
   "metadata": {},
   "outputs": [
    {
     "data": {
      "text/plain": [
       "'tt'"
      ]
     },
     "execution_count": 46,
     "metadata": {},
     "output_type": "execute_result"
    }
   ],
   "source": [
    "getattr(a, 'name')"
   ]
  },
  {
   "cell_type": "code",
   "execution_count": 37,
   "id": "62d3ebe8",
   "metadata": {},
   "outputs": [
    {
     "name": "stderr",
     "output_type": "stream",
     "text": [
      "/Users/SuperTiger/ADACS/repo/SS2022A-DFisher/dfisher_2022a/dfisher_2022a/fits/base.py:80: SettingWithCopyWarning: \n",
      "A value is trying to be set on a copy of a slice from a DataFrame\n",
      "\n",
      "See the caveats in the documentation: https://pandas.pydata.org/pandas-docs/stable/user_guide/indexing.html#returning-a-view-versus-a-copy\n",
      "  df[\"row\"][i*axis_y:(i+1)*axis_y] = i\n"
     ]
    }
   ],
   "source": [
    "fsmall = dfi.fits.base.FitCube(small, model)"
   ]
  },
  {
   "cell_type": "code",
   "execution_count": 38,
   "id": "703bf692",
   "metadata": {},
   "outputs": [],
   "source": [
    "ch = fc.res[\"Result\"][0]"
   ]
  },
  {
   "cell_type": "code",
   "execution_count": 55,
   "id": "c1af956c",
   "metadata": {},
   "outputs": [
    {
     "data": {
      "text/plain": [
       "lmfit.model.ModelResult"
      ]
     },
     "execution_count": 55,
     "metadata": {},
     "output_type": "execute_result"
    }
   ],
   "source": [
    "type(ch)"
   ]
  },
  {
   "cell_type": "code",
   "execution_count": 56,
   "id": "d7187191",
   "metadata": {},
   "outputs": [
    {
     "data": {
      "text/plain": [
       "['_Minimizer__jacobian',\n",
       " '_Minimizer__residual',\n",
       " '__class__',\n",
       " '__delattr__',\n",
       " '__dict__',\n",
       " '__dir__',\n",
       " '__doc__',\n",
       " '__eq__',\n",
       " '__format__',\n",
       " '__ge__',\n",
       " '__getattribute__',\n",
       " '__gt__',\n",
       " '__hash__',\n",
       " '__init__',\n",
       " '__init_subclass__',\n",
       " '__le__',\n",
       " '__lt__',\n",
       " '__module__',\n",
       " '__ne__',\n",
       " '__new__',\n",
       " '__reduce__',\n",
       " '__reduce_ex__',\n",
       " '__repr__',\n",
       " '__setattr__',\n",
       " '__sizeof__',\n",
       " '__str__',\n",
       " '__subclasshook__',\n",
       " '__weakref__',\n",
       " '_abort',\n",
       " '_calculate_covariance_matrix',\n",
       " '_calculate_uncertainties_correlations',\n",
       " '_err_max_evals',\n",
       " '_err_nonparam',\n",
       " '_int2ext_cov_x',\n",
       " '_lnprob',\n",
       " '_repr_html_',\n",
       " 'aborted',\n",
       " 'aic',\n",
       " 'ampgo',\n",
       " 'basinhopping',\n",
       " 'best_fit',\n",
       " 'best_values',\n",
       " 'bic',\n",
       " 'brute',\n",
       " 'calc_covar',\n",
       " 'call_kws',\n",
       " 'chisqr',\n",
       " 'ci_out',\n",
       " 'ci_report',\n",
       " 'col_deriv',\n",
       " 'components',\n",
       " 'conf_interval',\n",
       " 'covar',\n",
       " 'data',\n",
       " 'dual_annealing',\n",
       " 'dump',\n",
       " 'dumps',\n",
       " 'emcee',\n",
       " 'errorbars',\n",
       " 'eval',\n",
       " 'eval_components',\n",
       " 'eval_uncertainty',\n",
       " 'fit',\n",
       " 'fit_report',\n",
       " 'flatchain',\n",
       " 'ier',\n",
       " 'init_fit',\n",
       " 'init_params',\n",
       " 'init_vals',\n",
       " 'init_values',\n",
       " 'iter_cb',\n",
       " 'jacfcn',\n",
       " 'kws',\n",
       " 'last_internal_values',\n",
       " 'least_squares',\n",
       " 'leastsq',\n",
       " 'lmdif_message',\n",
       " 'load',\n",
       " 'loads',\n",
       " 'max_nfev',\n",
       " 'message',\n",
       " 'method',\n",
       " 'minimize',\n",
       " 'model',\n",
       " 'nan_policy',\n",
       " 'ndata',\n",
       " 'nfev',\n",
       " 'nfree',\n",
       " 'nvarys',\n",
       " 'params',\n",
       " 'penalty',\n",
       " 'plot',\n",
       " 'plot_fit',\n",
       " 'plot_residuals',\n",
       " 'prepare_fit',\n",
       " 'redchi',\n",
       " 'reduce_fcn',\n",
       " 'residual',\n",
       " 'result',\n",
       " 'scalar_minimize',\n",
       " 'scale_covar',\n",
       " 'set_max_nfev',\n",
       " 'shgo',\n",
       " 'show_candidates',\n",
       " 'success',\n",
       " 'unprepare_fit',\n",
       " 'user_options',\n",
       " 'userargs',\n",
       " 'userfcn',\n",
       " 'userkws',\n",
       " 'values',\n",
       " 'var_names',\n",
       " 'weights']"
      ]
     },
     "execution_count": 56,
     "metadata": {},
     "output_type": "execute_result"
    }
   ],
   "source": [
    "dir(ch)"
   ]
  },
  {
   "cell_type": "code",
   "execution_count": 39,
   "id": "98376610",
   "metadata": {},
   "outputs": [],
   "source": [
    "df = fc.res"
   ]
  },
  {
   "cell_type": "code",
   "execution_count": 71,
   "id": "bc0918d6",
   "metadata": {},
   "outputs": [],
   "source": [
    "def get_chi(x):\n",
    "    return pd.Series(x.chisqr)"
   ]
  },
  {
   "cell_type": "code",
   "execution_count": 73,
   "id": "18beb32e",
   "metadata": {},
   "outputs": [],
   "source": [
    "df[\"chi\"] = fc.res[\"Result\"].apply(get_chi)"
   ]
  },
  {
   "cell_type": "code",
   "execution_count": 74,
   "id": "6966527a",
   "metadata": {},
   "outputs": [
    {
     "data": {
      "text/html": [
       "<div>\n",
       "<style scoped>\n",
       "    .dataframe tbody tr th:only-of-type {\n",
       "        vertical-align: middle;\n",
       "    }\n",
       "\n",
       "    .dataframe tbody tr th {\n",
       "        vertical-align: top;\n",
       "    }\n",
       "\n",
       "    .dataframe thead th {\n",
       "        text-align: right;\n",
       "    }\n",
       "</style>\n",
       "<table border=\"1\" class=\"dataframe\">\n",
       "  <thead>\n",
       "    <tr style=\"text-align: right;\">\n",
       "      <th></th>\n",
       "      <th>row</th>\n",
       "      <th>col</th>\n",
       "      <th>Result</th>\n",
       "      <th>chi</th>\n",
       "    </tr>\n",
       "  </thead>\n",
       "  <tbody>\n",
       "    <tr>\n",
       "      <th>0</th>\n",
       "      <td>0</td>\n",
       "      <td>0</td>\n",
       "      <td>&lt;lmfit.model.ModelResult object at 0x14a239880&gt;</td>\n",
       "      <td>1.641783</td>\n",
       "    </tr>\n",
       "    <tr>\n",
       "      <th>1</th>\n",
       "      <td>0</td>\n",
       "      <td>1</td>\n",
       "      <td>&lt;lmfit.model.ModelResult object at 0x13141c580&gt;</td>\n",
       "      <td>0.425958</td>\n",
       "    </tr>\n",
       "    <tr>\n",
       "      <th>2</th>\n",
       "      <td>0</td>\n",
       "      <td>2</td>\n",
       "      <td>&lt;lmfit.model.ModelResult object at 0x1314666a0&gt;</td>\n",
       "      <td>1.536552</td>\n",
       "    </tr>\n",
       "    <tr>\n",
       "      <th>3</th>\n",
       "      <td>0</td>\n",
       "      <td>3</td>\n",
       "      <td>&lt;lmfit.model.ModelResult object at 0x14a22a130&gt;</td>\n",
       "      <td>2.285237</td>\n",
       "    </tr>\n",
       "    <tr>\n",
       "      <th>4</th>\n",
       "      <td>0</td>\n",
       "      <td>4</td>\n",
       "      <td>&lt;lmfit.model.ModelResult object at 0x14a26c640&gt;</td>\n",
       "      <td>0.318398</td>\n",
       "    </tr>\n",
       "    <tr>\n",
       "      <th>...</th>\n",
       "      <td>...</td>\n",
       "      <td>...</td>\n",
       "      <td>...</td>\n",
       "      <td>...</td>\n",
       "    </tr>\n",
       "    <tr>\n",
       "      <th>95</th>\n",
       "      <td>9</td>\n",
       "      <td>5</td>\n",
       "      <td>&lt;lmfit.model.ModelResult object at 0x14a26c610&gt;</td>\n",
       "      <td>0.559235</td>\n",
       "    </tr>\n",
       "    <tr>\n",
       "      <th>96</th>\n",
       "      <td>9</td>\n",
       "      <td>6</td>\n",
       "      <td>&lt;lmfit.model.ModelResult object at 0x14a265cd0&gt;</td>\n",
       "      <td>0.584941</td>\n",
       "    </tr>\n",
       "    <tr>\n",
       "      <th>97</th>\n",
       "      <td>9</td>\n",
       "      <td>7</td>\n",
       "      <td>&lt;lmfit.model.ModelResult object at 0x14a26c430&gt;</td>\n",
       "      <td>1.032410</td>\n",
       "    </tr>\n",
       "    <tr>\n",
       "      <th>98</th>\n",
       "      <td>9</td>\n",
       "      <td>8</td>\n",
       "      <td>&lt;lmfit.model.ModelResult object at 0x14a26c040&gt;</td>\n",
       "      <td>0.163493</td>\n",
       "    </tr>\n",
       "    <tr>\n",
       "      <th>99</th>\n",
       "      <td>9</td>\n",
       "      <td>9</td>\n",
       "      <td>&lt;lmfit.model.ModelResult object at 0x14a576910&gt;</td>\n",
       "      <td>0.094573</td>\n",
       "    </tr>\n",
       "  </tbody>\n",
       "</table>\n",
       "<p>100 rows × 4 columns</p>\n",
       "</div>"
      ],
      "text/plain": [
       "    row  col                                           Result       chi\n",
       "0     0    0  <lmfit.model.ModelResult object at 0x14a239880>  1.641783\n",
       "1     0    1  <lmfit.model.ModelResult object at 0x13141c580>  0.425958\n",
       "2     0    2  <lmfit.model.ModelResult object at 0x1314666a0>  1.536552\n",
       "3     0    3  <lmfit.model.ModelResult object at 0x14a22a130>  2.285237\n",
       "4     0    4  <lmfit.model.ModelResult object at 0x14a26c640>  0.318398\n",
       "..  ...  ...                                              ...       ...\n",
       "95    9    5  <lmfit.model.ModelResult object at 0x14a26c610>  0.559235\n",
       "96    9    6  <lmfit.model.ModelResult object at 0x14a265cd0>  0.584941\n",
       "97    9    7  <lmfit.model.ModelResult object at 0x14a26c430>  1.032410\n",
       "98    9    8  <lmfit.model.ModelResult object at 0x14a26c040>  0.163493\n",
       "99    9    9  <lmfit.model.ModelResult object at 0x14a576910>  0.094573\n",
       "\n",
       "[100 rows x 4 columns]"
      ]
     },
     "execution_count": 74,
     "metadata": {},
     "output_type": "execute_result"
    }
   ],
   "source": [
    "df"
   ]
  },
  {
   "cell_type": "code",
   "execution_count": 58,
   "id": "1fc24b41",
   "metadata": {},
   "outputs": [],
   "source": [
    "cr = ch.result"
   ]
  },
  {
   "cell_type": "code",
   "execution_count": 63,
   "id": "7f817bcf",
   "metadata": {},
   "outputs": [
    {
     "data": {
      "text/plain": [
       "['g1_height', 'g1_center', 'g1_sigma', 'c']"
      ]
     },
     "execution_count": 63,
     "metadata": {},
     "output_type": "execute_result"
    }
   ],
   "source": [
    "cr.var_names"
   ]
  },
  {
   "cell_type": "code",
   "execution_count": 60,
   "id": "b4154784",
   "metadata": {},
   "outputs": [],
   "source": [
    "g = ch.params.get('g1_height')"
   ]
  },
  {
   "cell_type": "code",
   "execution_count": 63,
   "id": "2da9dab0",
   "metadata": {},
   "outputs": [
    {
     "data": {
      "text/plain": [
       "1.0535887534869381"
      ]
     },
     "execution_count": 63,
     "metadata": {},
     "output_type": "execute_result"
    }
   ],
   "source": [
    "g.stderr"
   ]
  },
  {
   "cell_type": "code",
   "execution_count": 64,
   "id": "c8e1278c",
   "metadata": {},
   "outputs": [
    {
     "data": {
      "text/plain": [
       "<Parameter 'g1_height', value=137.97185427421581 +/- 1.05, bounds=[0:inf]>"
      ]
     },
     "execution_count": 64,
     "metadata": {},
     "output_type": "execute_result"
    }
   ],
   "source": [
    "g"
   ]
  },
  {
   "cell_type": "code",
   "execution_count": 56,
   "id": "21f2b9c6",
   "metadata": {},
   "outputs": [
    {
     "data": {
      "text/plain": [
       "array([1.38968256e+02, 6.56301940e+03, 2.21056375e+00, 5.27618346e+00])"
      ]
     },
     "execution_count": 56,
     "metadata": {},
     "output_type": "execute_result"
    }
   ],
   "source": [
    "ch.last_internal_values"
   ]
  },
  {
   "cell_type": "code",
   "execution_count": 58,
   "id": "9eebb206",
   "metadata": {},
   "outputs": [
    {
     "data": {
      "text/plain": [
       "{'c': 5.2761834589929615,\n",
       " 'g1_height': 137.97185427421581,\n",
       " 'g1_center': 6563.019402970259,\n",
       " 'g1_sigma': 1.4262300169236233}"
      ]
     },
     "execution_count": 58,
     "metadata": {},
     "output_type": "execute_result"
    }
   ],
   "source": [
    "ch.best_values"
   ]
  },
  {
   "cell_type": "code",
   "execution_count": 85,
   "id": "a08d9607",
   "metadata": {},
   "outputs": [
    {
     "data": {
      "text/plain": [
       "lmfit.model.ModelResult"
      ]
     },
     "execution_count": 85,
     "metadata": {},
     "output_type": "execute_result"
    }
   ],
   "source": [
    "type(ch)"
   ]
  },
  {
   "cell_type": "code",
   "execution_count": 86,
   "id": "c27956ad",
   "metadata": {},
   "outputs": [],
   "source": [
    "import sys"
   ]
  },
  {
   "cell_type": "code",
   "execution_count": 87,
   "id": "80035c25",
   "metadata": {},
   "outputs": [
    {
     "data": {
      "text/plain": [
       "48"
      ]
     },
     "execution_count": 87,
     "metadata": {},
     "output_type": "execute_result"
    }
   ],
   "source": [
    "sys.getsizeof(ch)"
   ]
  },
  {
   "cell_type": "code",
   "execution_count": 88,
   "id": "84f10e96",
   "metadata": {},
   "outputs": [
    {
     "data": {
      "text/plain": [
       "5220214144"
      ]
     },
     "execution_count": 88,
     "metadata": {},
     "output_type": "execute_result"
    }
   ],
   "source": [
    "id(ch)"
   ]
  },
  {
   "cell_type": "code",
   "execution_count": 91,
   "id": "8e54ea4a",
   "metadata": {},
   "outputs": [],
   "source": [
    "l = [ch,ch,ch]"
   ]
  },
  {
   "cell_type": "code",
   "execution_count": 94,
   "id": "124f67ad",
   "metadata": {},
   "outputs": [
    {
     "data": {
      "text/plain": [
       "86456"
      ]
     },
     "execution_count": 94,
     "metadata": {},
     "output_type": "execute_result"
    }
   ],
   "source": [
    "sys.getsizeof(l)"
   ]
  },
  {
   "cell_type": "code",
   "execution_count": 93,
   "id": "0fcf0e6d",
   "metadata": {},
   "outputs": [],
   "source": [
    "l = [ch]*10800"
   ]
  },
  {
   "cell_type": "code",
   "execution_count": 96,
   "id": "2e7d36fe",
   "metadata": {},
   "outputs": [],
   "source": [
    "y = (1,2,'tr')"
   ]
  },
  {
   "cell_type": "code",
   "execution_count": 98,
   "id": "d2a33993",
   "metadata": {},
   "outputs": [
    {
     "data": {
      "text/plain": [
       "tuple"
      ]
     },
     "execution_count": 98,
     "metadata": {},
     "output_type": "execute_result"
    }
   ],
   "source": [
    "type(y)"
   ]
  },
  {
   "cell_type": "code",
   "execution_count": 40,
   "id": "ca0c6e68",
   "metadata": {},
   "outputs": [],
   "source": [
    "def f(x):\n",
    "    return x + 1"
   ]
  },
  {
   "cell_type": "code",
   "execution_count": 43,
   "id": "d9bed677",
   "metadata": {},
   "outputs": [
    {
     "name": "stdout",
     "output_type": "stream",
     "text": [
      "1\n",
      "2\n",
      "3\n",
      "4\n",
      "5\n",
      "6\n",
      "7\n",
      "8\n",
      "9\n",
      "10\n"
     ]
    }
   ],
   "source": [
    "for ele in map(f, list(range(10))):\n",
    "    print(ele)"
   ]
  },
  {
   "cell_type": "code",
   "execution_count": 44,
   "id": "62f724e0",
   "metadata": {},
   "outputs": [],
   "source": [
    "gg = map(f, list(range(10)))"
   ]
  },
  {
   "cell_type": "code",
   "execution_count": 45,
   "id": "0c58280e",
   "metadata": {},
   "outputs": [
    {
     "data": {
      "text/plain": [
       "map"
      ]
     },
     "execution_count": 45,
     "metadata": {},
     "output_type": "execute_result"
    }
   ],
   "source": [
    "type(gg)"
   ]
  },
  {
   "cell_type": "code",
   "execution_count": 50,
   "id": "82a9594f",
   "metadata": {},
   "outputs": [
    {
     "data": {
      "text/plain": [
       "3"
      ]
     },
     "execution_count": 50,
     "metadata": {},
     "output_type": "execute_result"
    }
   ],
   "source": [
    "gg.__next__()"
   ]
  },
  {
   "cell_type": "code",
   "execution_count": 51,
   "id": "fda0994d",
   "metadata": {},
   "outputs": [],
   "source": [
    "def f(q):\n",
    "    q.put([42, None, 'hello'])"
   ]
  },
  {
   "cell_type": "code",
   "execution_count": 143,
   "id": "1b07b9fa",
   "metadata": {},
   "outputs": [],
   "source": [
    "from multiprocessing import Queue, Process, Pool, Manager, RawArray, Array"
   ]
  },
  {
   "cell_type": "code",
   "execution_count": 53,
   "id": "3e53dd46",
   "metadata": {},
   "outputs": [],
   "source": [
    "q = Queue()"
   ]
  },
  {
   "cell_type": "code",
   "execution_count": 55,
   "id": "a04ce25f",
   "metadata": {},
   "outputs": [],
   "source": [
    "f(q)"
   ]
  },
  {
   "cell_type": "code",
   "execution_count": 59,
   "id": "364d8265",
   "metadata": {},
   "outputs": [
    {
     "data": {
      "text/plain": [
       "[42, None, 'hello']"
      ]
     },
     "execution_count": 59,
     "metadata": {},
     "output_type": "execute_result"
    }
   ],
   "source": [
    "q.get()"
   ]
  },
  {
   "cell_type": "code",
   "execution_count": 61,
   "id": "1446bdca",
   "metadata": {},
   "outputs": [],
   "source": [
    "p = Process()"
   ]
  },
  {
   "cell_type": "code",
   "execution_count": 189,
   "id": "7db69179",
   "metadata": {},
   "outputs": [],
   "source": [
    "p.start()"
   ]
  },
  {
   "cell_type": "code",
   "execution_count": 190,
   "id": "594a113b",
   "metadata": {},
   "outputs": [
    {
     "data": {
      "text/plain": [
       "2840"
      ]
     },
     "execution_count": 190,
     "metadata": {},
     "output_type": "execute_result"
    }
   ],
   "source": [
    "p.pid"
   ]
  },
  {
   "cell_type": "code",
   "execution_count": 65,
   "id": "eaf19950",
   "metadata": {},
   "outputs": [
    {
     "data": {
      "text/plain": [
       "{'_identity': (71,),\n",
       " '_config': {'authkey': b'\\x04\\xe2\\t\\xb2f_?\\xb110\\x01rC\\x04\\xc7\\xbf\\xb3\\xf2\\xd9\\x0c/\\x1d\\xdcR8\\xbb\\xf3\\x0f\\xe3\\xf2\\xf3\\x92',\n",
       "  'semprefix': '/mp'},\n",
       " '_parent_pid': 82516,\n",
       " '_parent_name': 'MainProcess',\n",
       " '_popen': None,\n",
       " '_closed': False,\n",
       " '_target': None,\n",
       " '_args': (),\n",
       " '_kwargs': {},\n",
       " '_name': 'Process-71'}"
      ]
     },
     "execution_count": 65,
     "metadata": {},
     "output_type": "execute_result"
    }
   ],
   "source": [
    "p.__dict__"
   ]
  },
  {
   "cell_type": "code",
   "execution_count": 66,
   "id": "734afd30",
   "metadata": {},
   "outputs": [],
   "source": [
    "p2 = Process()"
   ]
  },
  {
   "cell_type": "code",
   "execution_count": 67,
   "id": "a065edcf",
   "metadata": {},
   "outputs": [
    {
     "data": {
      "text/plain": [
       "{'_identity': (72,),\n",
       " '_config': {'authkey': b'\\x04\\xe2\\t\\xb2f_?\\xb110\\x01rC\\x04\\xc7\\xbf\\xb3\\xf2\\xd9\\x0c/\\x1d\\xdcR8\\xbb\\xf3\\x0f\\xe3\\xf2\\xf3\\x92',\n",
       "  'semprefix': '/mp'},\n",
       " '_parent_pid': 82516,\n",
       " '_parent_name': 'MainProcess',\n",
       " '_popen': None,\n",
       " '_closed': False,\n",
       " '_target': None,\n",
       " '_args': (),\n",
       " '_kwargs': {},\n",
       " '_name': 'Process-72'}"
      ]
     },
     "execution_count": 67,
     "metadata": {},
     "output_type": "execute_result"
    }
   ],
   "source": [
    "p2.__dict__"
   ]
  },
  {
   "cell_type": "code",
   "execution_count": 191,
   "id": "eb9d473a",
   "metadata": {},
   "outputs": [],
   "source": [
    "pool = Pool()"
   ]
  },
  {
   "cell_type": "code",
   "execution_count": 195,
   "id": "c3b1002d",
   "metadata": {},
   "outputs": [
    {
     "name": "stdout",
     "output_type": "stream",
     "text": [
      "<SpawnProcess name='SpawnPoolWorker-187' pid=3171 parent=82516 started daemon>\n",
      "<SpawnProcess name='SpawnPoolWorker-188' pid=3172 parent=82516 started daemon>\n",
      "<SpawnProcess name='SpawnPoolWorker-189' pid=3173 parent=82516 started daemon>\n",
      "<SpawnProcess name='SpawnPoolWorker-190' pid=3174 parent=82516 started daemon>\n"
     ]
    }
   ],
   "source": [
    "for p in pool._pool:\n",
    "    print(p)\n",
    "    "
   ]
  },
  {
   "cell_type": "code",
   "execution_count": 192,
   "id": "8f86dd6f",
   "metadata": {},
   "outputs": [
    {
     "data": {
      "text/plain": [
       "{'_pool': [<SpawnProcess name='SpawnPoolWorker-187' pid=3171 parent=82516 started daemon>,\n",
       "  <SpawnProcess name='SpawnPoolWorker-188' pid=3172 parent=82516 started daemon>,\n",
       "  <SpawnProcess name='SpawnPoolWorker-189' pid=3173 parent=82516 started daemon>,\n",
       "  <SpawnProcess name='SpawnPoolWorker-190' pid=3174 parent=82516 started daemon>],\n",
       " '_state': 'RUN',\n",
       " '_ctx': <multiprocessing.context.SpawnContext at 0x11acd9f40>,\n",
       " '_inqueue': <multiprocessing.queues.SimpleQueue at 0x14fbc8580>,\n",
       " '_outqueue': <multiprocessing.queues.SimpleQueue at 0x14fbc8a90>,\n",
       " '_quick_put': <bound method _ConnectionBase.send of <multiprocessing.connection.Connection object at 0x14fbc8dc0>>,\n",
       " '_quick_get': <bound method _ConnectionBase.recv of <multiprocessing.connection.Connection object at 0x14fbc8400>>,\n",
       " '_taskqueue': <_queue.SimpleQueue at 0x14fbd6360>,\n",
       " '_change_notifier': <multiprocessing.queues.SimpleQueue at 0x14fb808e0>,\n",
       " '_cache': {},\n",
       " '_maxtasksperchild': None,\n",
       " '_initializer': None,\n",
       " '_initargs': (),\n",
       " '_processes': 4,\n",
       " '_worker_handler': <Thread(Thread-77, started daemon 123145537540096)>,\n",
       " '_task_handler': <Thread(Thread-78, started daemon 123145554329600)>,\n",
       " '_result_handler': <Thread(Thread-79, started daemon 123145571119104)>,\n",
       " '_terminate': <Finalize object, callback=_terminate_pool, args=(<_queue.SimpleQueue object at 0x14fbd6360>, <multiprocessing.queues.SimpleQueue object at 0x14fbc8580>, <multiprocessing.queues.SimpleQueue object at 0x14fbc8a90>, [<SpawnProcess name='SpawnPoolWorker-187' pid=3171 parent=82516 started daemon>, <SpawnProcess name='SpawnPoolWorker-188' pid=3172 parent=82516 started daemon>, <SpawnProcess name='SpawnPoolWorker-189' pid=3173 parent=82516 started daemon>, <SpawnProcess name='SpawnPoolWorker-190' pid=3174 parent=82516 started daemon>], <multiprocessing.queues.SimpleQueue object at 0x14fb808e0>, <Thread(Thread-77, started daemon 123145537540096)>, <Thread(Thread-78, started daemon 123145554329600)>, <Thread(Thread-79, started daemon 123145571119104)>, {}), exitpriority=15>}"
      ]
     },
     "execution_count": 192,
     "metadata": {},
     "output_type": "execute_result"
    }
   ],
   "source": [
    "pool.__dict__"
   ]
  },
  {
   "cell_type": "code",
   "execution_count": 76,
   "id": "31daeba6",
   "metadata": {},
   "outputs": [],
   "source": [
    "m = Manager()"
   ]
  },
  {
   "cell_type": "code",
   "execution_count": 78,
   "id": "c51adfbc",
   "metadata": {},
   "outputs": [
    {
     "data": {
      "text/plain": [
       "['Array',\n",
       " 'Barrier',\n",
       " 'BoundedSemaphore',\n",
       " 'Condition',\n",
       " 'Event',\n",
       " 'JoinableQueue',\n",
       " 'Lock',\n",
       " 'Namespace',\n",
       " 'Pool',\n",
       " 'Queue',\n",
       " 'RLock',\n",
       " 'Semaphore',\n",
       " 'Value',\n",
       " '_Client',\n",
       " '_Listener',\n",
       " '_Server',\n",
       " '__class__',\n",
       " '__delattr__',\n",
       " '__dict__',\n",
       " '__dir__',\n",
       " '__doc__',\n",
       " '__enter__',\n",
       " '__eq__',\n",
       " '__exit__',\n",
       " '__format__',\n",
       " '__ge__',\n",
       " '__getattribute__',\n",
       " '__gt__',\n",
       " '__hash__',\n",
       " '__init__',\n",
       " '__init_subclass__',\n",
       " '__le__',\n",
       " '__lt__',\n",
       " '__module__',\n",
       " '__ne__',\n",
       " '__new__',\n",
       " '__reduce__',\n",
       " '__reduce_ex__',\n",
       " '__repr__',\n",
       " '__setattr__',\n",
       " '__sizeof__',\n",
       " '__str__',\n",
       " '__subclasshook__',\n",
       " '__weakref__',\n",
       " '_address',\n",
       " '_authkey',\n",
       " '_create',\n",
       " '_ctx',\n",
       " '_debug_info',\n",
       " '_finalize_manager',\n",
       " '_number_of_objects',\n",
       " '_process',\n",
       " '_registry',\n",
       " '_run_server',\n",
       " '_serializer',\n",
       " '_state',\n",
       " 'address',\n",
       " 'connect',\n",
       " 'dict',\n",
       " 'get_server',\n",
       " 'join',\n",
       " 'list',\n",
       " 'register',\n",
       " 'shutdown',\n",
       " 'start']"
      ]
     },
     "execution_count": 78,
     "metadata": {},
     "output_type": "execute_result"
    }
   ],
   "source": [
    "dir(m)"
   ]
  },
  {
   "cell_type": "code",
   "execution_count": 74,
   "id": "8a5f7519",
   "metadata": {},
   "outputs": [
    {
     "data": {
      "text/plain": [
       "99365"
      ]
     },
     "execution_count": 74,
     "metadata": {},
     "output_type": "execute_result"
    }
   ],
   "source": [
    "p2.pid"
   ]
  },
  {
   "cell_type": "code",
   "execution_count": 69,
   "id": "dbec766e",
   "metadata": {},
   "outputs": [
    {
     "data": {
      "text/plain": [
       "{'_pool': [<SpawnProcess name='SpawnPoolWorker-73' pid=99353 parent=82516 started daemon>,\n",
       "  <SpawnProcess name='SpawnPoolWorker-74' pid=99354 parent=82516 started daemon>,\n",
       "  <SpawnProcess name='SpawnPoolWorker-75' pid=99355 parent=82516 started daemon>,\n",
       "  <SpawnProcess name='SpawnPoolWorker-76' pid=99356 parent=82516 started daemon>],\n",
       " '_state': 'RUN',\n",
       " '_ctx': <multiprocessing.context.SpawnContext at 0x11acd9f40>,\n",
       " '_inqueue': <multiprocessing.queues.SimpleQueue at 0x14e49fa30>,\n",
       " '_outqueue': <multiprocessing.queues.SimpleQueue at 0x14e49ff40>,\n",
       " '_quick_put': <bound method _ConnectionBase.send of <multiprocessing.connection.Connection object at 0x14e49fb20>>,\n",
       " '_quick_get': <bound method _ConnectionBase.recv of <multiprocessing.connection.Connection object at 0x14e49f4f0>>,\n",
       " '_taskqueue': <_queue.SimpleQueue at 0x14eb52950>,\n",
       " '_change_notifier': <multiprocessing.queues.SimpleQueue at 0x14e309b50>,\n",
       " '_cache': {},\n",
       " '_maxtasksperchild': None,\n",
       " '_initializer': None,\n",
       " '_initargs': (),\n",
       " '_processes': 4,\n",
       " '_worker_handler': <Thread(Thread-71, started daemon 123145537540096)>,\n",
       " '_task_handler': <Thread(Thread-72, started daemon 123145554329600)>,\n",
       " '_result_handler': <Thread(Thread-73, started daemon 123145571119104)>,\n",
       " '_terminate': <Finalize object, callback=_terminate_pool, args=(<_queue.SimpleQueue object at 0x14eb52950>, <multiprocessing.queues.SimpleQueue object at 0x14e49fa30>, <multiprocessing.queues.SimpleQueue object at 0x14e49ff40>, [<SpawnProcess name='SpawnPoolWorker-73' pid=99353 parent=82516 started daemon>, <SpawnProcess name='SpawnPoolWorker-74' pid=99354 parent=82516 started daemon>, <SpawnProcess name='SpawnPoolWorker-75' pid=99355 parent=82516 started daemon>, <SpawnProcess name='SpawnPoolWorker-76' pid=99356 parent=82516 started daemon>], <multiprocessing.queues.SimpleQueue object at 0x14e309b50>, <Thread(Thread-71, started daemon 123145537540096)>, <Thread(Thread-72, started daemon 123145554329600)>, <Thread(Thread-73, started daemon 123145571119104)>, {}), exitpriority=15>}"
      ]
     },
     "execution_count": 69,
     "metadata": {},
     "output_type": "execute_result"
    }
   ],
   "source": [
    "pool.__dict__"
   ]
  },
  {
   "cell_type": "code",
   "execution_count": 79,
   "id": "3d2a01bd",
   "metadata": {},
   "outputs": [],
   "source": [
    "m = Manager()"
   ]
  },
  {
   "cell_type": "code",
   "execution_count": 81,
   "id": "01df4200",
   "metadata": {},
   "outputs": [],
   "source": [
    "temp_dict = m.dict()"
   ]
  },
  {
   "cell_type": "code",
   "execution_count": 83,
   "id": "f200a6de",
   "metadata": {},
   "outputs": [
    {
     "data": {
      "text/plain": [
       "{'_tls': <multiprocessing.util.ForkAwareLocal at 0x14ebadb80>,\n",
       " '_idset': {'10e23cd40'},\n",
       " '_token': Token(typeid='dict', address='/var/folders/nb/wym_qb_d4pxc93dj_c7l3wlr0000gn/T/pymp-qed3y3vf/listener-w2rmtmkq', id='10e23cd40'),\n",
       " '_id': '10e23cd40',\n",
       " '_manager': <multiprocessing.managers.SyncManager at 0x14e3e7250>,\n",
       " '_serializer': 'pickle',\n",
       " '_Client': <function multiprocessing.connection.Client(address, family=None, authkey=None)>,\n",
       " '_owned_by_manager': False,\n",
       " '_authkey': b'\\x04\\xe2\\t\\xb2f_?\\xb110\\x01rC\\x04\\xc7\\xbf\\xb3\\xf2\\xd9\\x0c/\\x1d\\xdcR8\\xbb\\xf3\\x0f\\xe3\\xf2\\xf3\\x92',\n",
       " '_close': <Finalize object, callback=_decref, args=(Token(typeid='dict', address='/var/folders/nb/wym_qb_d4pxc93dj_c7l3wlr0000gn/T/pymp-qed3y3vf/listener-w2rmtmkq', id='10e23cd40'), b'\\x04\\xe2\\t\\xb2f_?\\xb110\\x01rC\\x04\\xc7\\xbf\\xb3\\xf2\\xd9\\x0c/\\x1d\\xdcR8\\xbb\\xf3\\x0f\\xe3\\xf2\\xf3\\x92', <multiprocessing.managers.State object at 0x14e3e7bb0>, <multiprocessing.util.ForkAwareLocal object at 0x14ebadb80>, ProcessLocalSet({'10e23cd40'}), <function Client at 0x134ac65e0>), exitpriority=10>}"
      ]
     },
     "execution_count": 83,
     "metadata": {},
     "output_type": "execute_result"
    }
   ],
   "source": [
    "temp_dict.__dict__"
   ]
  },
  {
   "cell_type": "code",
   "execution_count": 84,
   "id": "d4123274",
   "metadata": {},
   "outputs": [],
   "source": [
    "def test(idx, test_dict):\n",
    "    test_dict[idx] = idx"
   ]
  },
  {
   "cell_type": "code",
   "execution_count": 85,
   "id": "8edad3b5",
   "metadata": {},
   "outputs": [],
   "source": [
    "pool = Pool()"
   ]
  },
  {
   "cell_type": "code",
   "execution_count": 89,
   "id": "0ad918e1",
   "metadata": {},
   "outputs": [],
   "source": [
    "c = np.zeros((4,4))"
   ]
  },
  {
   "cell_type": "code",
   "execution_count": 169,
   "id": "e89811c8",
   "metadata": {},
   "outputs": [],
   "source": [
    "ar = m.Array('d',range(100))"
   ]
  },
  {
   "cell_type": "code",
   "execution_count": 175,
   "id": "6ef0101e",
   "metadata": {},
   "outputs": [
    {
     "data": {
      "text/plain": [
       "<ArrayProxy object, typeid 'Array' at 0x1357f0bb0>"
      ]
     },
     "execution_count": 175,
     "metadata": {},
     "output_type": "execute_result"
    }
   ],
   "source": [
    "ar"
   ]
  },
  {
   "cell_type": "code",
   "execution_count": 180,
   "id": "ce90924c",
   "metadata": {},
   "outputs": [
    {
     "data": {
      "text/plain": [
       "array('d', [0.0, 1.0, 2.0, 3.0, 4.0, 5.0, 6.0, 7.0, 8.0, 9.0, 10.0, 11.0, 12.0, 13.0, 14.0, 15.0, 16.0, 17.0, 18.0, 19.0, 20.0, 21.0, 22.0, 23.0, 24.0, 25.0, 26.0, 27.0, 28.0, 29.0, 30.0, 31.0, 32.0, 33.0, 34.0, 35.0, 36.0, 37.0, 38.0, 39.0, 40.0, 41.0, 42.0, 43.0, 44.0, 45.0, 46.0, 47.0, 48.0, 49.0, 50.0, 51.0, 52.0, 53.0, 54.0, 55.0, 56.0, 57.0, 58.0, 59.0, 60.0, 61.0, 62.0, 63.0, 64.0, 65.0, 66.0, 67.0, 68.0, 69.0, 70.0, 71.0, 72.0, 73.0, 74.0, 75.0, 76.0, 77.0, 78.0, 79.0, 80.0, 81.0, 82.0, 83.0, 84.0, 85.0, 86.0, 87.0, 88.0, 89.0, 90.0, 91.0, 92.0, 93.0, 94.0, 95.0, 96.0, 97.0, 98.0, 99.0])"
      ]
     },
     "execution_count": 180,
     "metadata": {},
     "output_type": "execute_result"
    }
   ],
   "source": [
    "ar._getvalue()"
   ]
  },
  {
   "cell_type": "code",
   "execution_count": null,
   "id": "b7036f87",
   "metadata": {},
   "outputs": [],
   "source": []
  },
  {
   "cell_type": "code",
   "execution_count": 129,
   "id": "f612ec39",
   "metadata": {},
   "outputs": [],
   "source": [
    "x_shape = (10,10)"
   ]
  },
  {
   "cell_type": "code",
   "execution_count": 182,
   "id": "d488e19c",
   "metadata": {},
   "outputs": [],
   "source": [
    "data = np.random.rand(*(10,10))"
   ]
  },
  {
   "cell_type": "code",
   "execution_count": 131,
   "id": "80b5be34",
   "metadata": {},
   "outputs": [
    {
     "data": {
      "text/plain": [
       "(10, 10)"
      ]
     },
     "execution_count": 131,
     "metadata": {},
     "output_type": "execute_result"
    }
   ],
   "source": [
    "data.shape"
   ]
  },
  {
   "cell_type": "code",
   "execution_count": 159,
   "id": "4d60e75f",
   "metadata": {},
   "outputs": [],
   "source": [
    "x_np = np.frombuffer(ar.get_obj(), dtype=np.float64)"
   ]
  },
  {
   "cell_type": "code",
   "execution_count": 160,
   "id": "12ba06fa",
   "metadata": {},
   "outputs": [
    {
     "data": {
      "text/plain": [
       "array([10., 10.])"
      ]
     },
     "execution_count": 160,
     "metadata": {},
     "output_type": "execute_result"
    }
   ],
   "source": [
    "x_np"
   ]
  },
  {
   "cell_type": "code",
   "execution_count": 152,
   "id": "3db91816",
   "metadata": {},
   "outputs": [
    {
     "data": {
      "text/plain": [
       "['T',\n",
       " '__abs__',\n",
       " '__add__',\n",
       " '__and__',\n",
       " '__array__',\n",
       " '__array_finalize__',\n",
       " '__array_function__',\n",
       " '__array_interface__',\n",
       " '__array_prepare__',\n",
       " '__array_priority__',\n",
       " '__array_struct__',\n",
       " '__array_ufunc__',\n",
       " '__array_wrap__',\n",
       " '__bool__',\n",
       " '__class__',\n",
       " '__class_getitem__',\n",
       " '__complex__',\n",
       " '__contains__',\n",
       " '__copy__',\n",
       " '__deepcopy__',\n",
       " '__delattr__',\n",
       " '__delitem__',\n",
       " '__dir__',\n",
       " '__divmod__',\n",
       " '__dlpack__',\n",
       " '__dlpack_device__',\n",
       " '__doc__',\n",
       " '__eq__',\n",
       " '__float__',\n",
       " '__floordiv__',\n",
       " '__format__',\n",
       " '__ge__',\n",
       " '__getattribute__',\n",
       " '__getitem__',\n",
       " '__gt__',\n",
       " '__hash__',\n",
       " '__iadd__',\n",
       " '__iand__',\n",
       " '__ifloordiv__',\n",
       " '__ilshift__',\n",
       " '__imatmul__',\n",
       " '__imod__',\n",
       " '__imul__',\n",
       " '__index__',\n",
       " '__init__',\n",
       " '__init_subclass__',\n",
       " '__int__',\n",
       " '__invert__',\n",
       " '__ior__',\n",
       " '__ipow__',\n",
       " '__irshift__',\n",
       " '__isub__',\n",
       " '__iter__',\n",
       " '__itruediv__',\n",
       " '__ixor__',\n",
       " '__le__',\n",
       " '__len__',\n",
       " '__lshift__',\n",
       " '__lt__',\n",
       " '__matmul__',\n",
       " '__mod__',\n",
       " '__mul__',\n",
       " '__ne__',\n",
       " '__neg__',\n",
       " '__new__',\n",
       " '__or__',\n",
       " '__pos__',\n",
       " '__pow__',\n",
       " '__radd__',\n",
       " '__rand__',\n",
       " '__rdivmod__',\n",
       " '__reduce__',\n",
       " '__reduce_ex__',\n",
       " '__repr__',\n",
       " '__rfloordiv__',\n",
       " '__rlshift__',\n",
       " '__rmatmul__',\n",
       " '__rmod__',\n",
       " '__rmul__',\n",
       " '__ror__',\n",
       " '__rpow__',\n",
       " '__rrshift__',\n",
       " '__rshift__',\n",
       " '__rsub__',\n",
       " '__rtruediv__',\n",
       " '__rxor__',\n",
       " '__setattr__',\n",
       " '__setitem__',\n",
       " '__setstate__',\n",
       " '__sizeof__',\n",
       " '__str__',\n",
       " '__sub__',\n",
       " '__subclasshook__',\n",
       " '__truediv__',\n",
       " '__xor__',\n",
       " 'all',\n",
       " 'any',\n",
       " 'argmax',\n",
       " 'argmin',\n",
       " 'argpartition',\n",
       " 'argsort',\n",
       " 'astype',\n",
       " 'base',\n",
       " 'byteswap',\n",
       " 'choose',\n",
       " 'clip',\n",
       " 'compress',\n",
       " 'conj',\n",
       " 'conjugate',\n",
       " 'copy',\n",
       " 'ctypes',\n",
       " 'cumprod',\n",
       " 'cumsum',\n",
       " 'data',\n",
       " 'diagonal',\n",
       " 'dot',\n",
       " 'dtype',\n",
       " 'dump',\n",
       " 'dumps',\n",
       " 'fill',\n",
       " 'flags',\n",
       " 'flat',\n",
       " 'flatten',\n",
       " 'getfield',\n",
       " 'imag',\n",
       " 'item',\n",
       " 'itemset',\n",
       " 'itemsize',\n",
       " 'max',\n",
       " 'mean',\n",
       " 'min',\n",
       " 'nbytes',\n",
       " 'ndim',\n",
       " 'newbyteorder',\n",
       " 'nonzero',\n",
       " 'partition',\n",
       " 'prod',\n",
       " 'ptp',\n",
       " 'put',\n",
       " 'ravel',\n",
       " 'real',\n",
       " 'repeat',\n",
       " 'reshape',\n",
       " 'resize',\n",
       " 'round',\n",
       " 'searchsorted',\n",
       " 'setfield',\n",
       " 'setflags',\n",
       " 'shape',\n",
       " 'size',\n",
       " 'sort',\n",
       " 'squeeze',\n",
       " 'std',\n",
       " 'strides',\n",
       " 'sum',\n",
       " 'swapaxes',\n",
       " 'take',\n",
       " 'tobytes',\n",
       " 'tofile',\n",
       " 'tolist',\n",
       " 'tostring',\n",
       " 'trace',\n",
       " 'transpose',\n",
       " 'var',\n",
       " 'view']"
      ]
     },
     "execution_count": 152,
     "metadata": {},
     "output_type": "execute_result"
    }
   ],
   "source": [
    "dir(x_np)"
   ]
  },
  {
   "cell_type": "code",
   "execution_count": 198,
   "id": "bb02010e",
   "metadata": {},
   "outputs": [
    {
     "data": {
      "text/plain": [
       "array([10., 10.])"
      ]
     },
     "execution_count": 198,
     "metadata": {},
     "output_type": "execute_result"
    }
   ],
   "source": [
    "x_np"
   ]
  },
  {
   "cell_type": "code",
   "execution_count": 135,
   "id": "a8267692",
   "metadata": {},
   "outputs": [
    {
     "data": {
      "text/plain": [
       "multiprocessing.sharedctypes.c_double_Array_100"
      ]
     },
     "execution_count": 135,
     "metadata": {},
     "output_type": "execute_result"
    }
   ],
   "source": [
    "type(ar)"
   ]
  },
  {
   "cell_type": "code",
   "execution_count": 141,
   "id": "958e675d",
   "metadata": {},
   "outputs": [
    {
     "data": {
      "text/plain": [
       "<ValueProxy object, typeid 'Value' at 0x14f969910>"
      ]
     },
     "execution_count": 141,
     "metadata": {},
     "output_type": "execute_result"
    }
   ],
   "source": [
    "m.Value('d',1)"
   ]
  },
  {
   "cell_type": "code",
   "execution_count": 144,
   "id": "cd3908bd",
   "metadata": {},
   "outputs": [],
   "source": [
    "arr = Array('d',100)"
   ]
  },
  {
   "cell_type": "code",
   "execution_count": 145,
   "id": "01944326",
   "metadata": {},
   "outputs": [
    {
     "data": {
      "text/plain": [
       "multiprocessing.sharedctypes.SynchronizedArray"
      ]
     },
     "execution_count": 145,
     "metadata": {},
     "output_type": "execute_result"
    }
   ],
   "source": [
    "type(arr)"
   ]
  },
  {
   "cell_type": "code",
   "execution_count": 184,
   "id": "b168f3fd",
   "metadata": {},
   "outputs": [],
   "source": [
    "import os"
   ]
  },
  {
   "cell_type": "code",
   "execution_count": 187,
   "id": "ba127d44",
   "metadata": {},
   "outputs": [
    {
     "data": {
      "text/plain": [
       "82516"
      ]
     },
     "execution_count": 187,
     "metadata": {},
     "output_type": "execute_result"
    }
   ],
   "source": [
    "os.getpid()"
   ]
  },
  {
   "cell_type": "code",
   "execution_count": 196,
   "id": "0cfa3816",
   "metadata": {},
   "outputs": [
    {
     "ename": "AttributeError",
     "evalue": "'SynchronizedArray' object has no attribute 'base'",
     "output_type": "error",
     "traceback": [
      "\u001b[0;31m---------------------------------------------------------------------------\u001b[0m",
      "\u001b[0;31mAttributeError\u001b[0m                            Traceback (most recent call last)",
      "Input \u001b[0;32mIn [196]\u001b[0m, in \u001b[0;36m<cell line: 1>\u001b[0;34m()\u001b[0m\n\u001b[0;32m----> 1\u001b[0m \u001b[43marr\u001b[49m\u001b[38;5;241;43m.\u001b[39;49m\u001b[43mbase\u001b[49m\n",
      "\u001b[0;31mAttributeError\u001b[0m: 'SynchronizedArray' object has no attribute 'base'"
     ]
    }
   ],
   "source": [
    "arr.base"
   ]
  },
  {
   "cell_type": "code",
   "execution_count": 220,
   "id": "71486c8b",
   "metadata": {},
   "outputs": [],
   "source": [
    "a = [2.0, 3,4]"
   ]
  },
  {
   "cell_type": "code",
   "execution_count": 221,
   "id": "2c043ccc",
   "metadata": {},
   "outputs": [
    {
     "data": {
      "text/plain": [
       "5626133312"
      ]
     },
     "execution_count": 221,
     "metadata": {},
     "output_type": "execute_result"
    }
   ],
   "source": [
    "id(a)"
   ]
  },
  {
   "cell_type": "code",
   "execution_count": 222,
   "id": "643bc07a",
   "metadata": {},
   "outputs": [],
   "source": [
    "b = a"
   ]
  },
  {
   "cell_type": "code",
   "execution_count": 223,
   "id": "0dbc4787",
   "metadata": {},
   "outputs": [
    {
     "data": {
      "text/plain": [
       "5626133312"
      ]
     },
     "execution_count": 223,
     "metadata": {},
     "output_type": "execute_result"
    }
   ],
   "source": [
    "id(b)"
   ]
  },
  {
   "cell_type": "code",
   "execution_count": 225,
   "id": "9df4c6a5",
   "metadata": {},
   "outputs": [
    {
     "data": {
      "text/plain": [
       "'0x14f57fb40'"
      ]
     },
     "execution_count": 225,
     "metadata": {},
     "output_type": "execute_result"
    }
   ],
   "source": [
    "hex(5626133312)"
   ]
  },
  {
   "cell_type": "code",
   "execution_count": 226,
   "id": "e17759fd",
   "metadata": {},
   "outputs": [],
   "source": [
    "aa = a[0]"
   ]
  },
  {
   "cell_type": "code",
   "execution_count": 229,
   "id": "1dfdac09",
   "metadata": {},
   "outputs": [
    {
     "data": {
      "text/plain": [
       "5632158672"
      ]
     },
     "execution_count": 229,
     "metadata": {},
     "output_type": "execute_result"
    }
   ],
   "source": [
    "id(aa)"
   ]
  },
  {
   "cell_type": "code",
   "execution_count": 235,
   "id": "95f25de4",
   "metadata": {},
   "outputs": [],
   "source": [
    "bb = a[0]"
   ]
  },
  {
   "cell_type": "code",
   "execution_count": 236,
   "id": "77977910",
   "metadata": {},
   "outputs": [
    {
     "data": {
      "text/plain": [
       "5632158672"
      ]
     },
     "execution_count": 236,
     "metadata": {},
     "output_type": "execute_result"
    }
   ],
   "source": [
    "id(bb)"
   ]
  },
  {
   "cell_type": "code",
   "execution_count": 210,
   "id": "8ead3fec",
   "metadata": {},
   "outputs": [
    {
     "data": {
      "text/plain": [
       "<method-wrapper '__hash__' of float object at 0x14eaa72d0>"
      ]
     },
     "execution_count": 210,
     "metadata": {},
     "output_type": "execute_result"
    }
   ],
   "source": [
    "b.__hash__"
   ]
  },
  {
   "cell_type": "code",
   "execution_count": 230,
   "id": "7ff28239",
   "metadata": {},
   "outputs": [],
   "source": [
    "p = Process()"
   ]
  },
  {
   "cell_type": "code",
   "execution_count": 231,
   "id": "ae8be1b9",
   "metadata": {},
   "outputs": [],
   "source": [
    "p.start()"
   ]
  },
  {
   "cell_type": "code",
   "execution_count": 232,
   "id": "717f0239",
   "metadata": {},
   "outputs": [
    {
     "data": {
      "text/plain": [
       "3862"
      ]
     },
     "execution_count": 232,
     "metadata": {},
     "output_type": "execute_result"
    }
   ],
   "source": [
    "p.pid"
   ]
  },
  {
   "cell_type": "code",
   "execution_count": 233,
   "id": "f2f79085",
   "metadata": {},
   "outputs": [],
   "source": [
    "c = a[0]"
   ]
  },
  {
   "cell_type": "code",
   "execution_count": 234,
   "id": "6ed9075a",
   "metadata": {},
   "outputs": [
    {
     "data": {
      "text/plain": [
       "5632158672"
      ]
     },
     "execution_count": 234,
     "metadata": {},
     "output_type": "execute_result"
    }
   ],
   "source": [
    "id(c)"
   ]
  },
  {
   "cell_type": "code",
   "execution_count": 237,
   "id": "8177788e",
   "metadata": {},
   "outputs": [],
   "source": [
    "a[0] = c + 1"
   ]
  },
  {
   "cell_type": "code",
   "execution_count": 238,
   "id": "adff5b7e",
   "metadata": {},
   "outputs": [],
   "source": [
    "p.join()"
   ]
  },
  {
   "cell_type": "code",
   "execution_count": 239,
   "id": "65717e43",
   "metadata": {},
   "outputs": [
    {
     "data": {
      "text/plain": [
       "2.0"
      ]
     },
     "execution_count": 239,
     "metadata": {},
     "output_type": "execute_result"
    }
   ],
   "source": [
    "c"
   ]
  },
  {
   "cell_type": "code",
   "execution_count": 240,
   "id": "8e0317dc",
   "metadata": {},
   "outputs": [
    {
     "data": {
      "text/plain": [
       "[3.0, 3, 4]"
      ]
     },
     "execution_count": 240,
     "metadata": {},
     "output_type": "execute_result"
    }
   ],
   "source": [
    "a"
   ]
  },
  {
   "cell_type": "code",
   "execution_count": null,
   "id": "ccb26e78",
   "metadata": {},
   "outputs": [],
   "source": []
  }
 ],
 "metadata": {
  "kernelspec": {
   "display_name": "dfi",
   "language": "python",
   "name": "dfi"
  },
  "language_info": {
   "codemirror_mode": {
    "name": "ipython",
    "version": 3
   },
   "file_extension": ".py",
   "mimetype": "text/x-python",
   "name": "python",
   "nbconvert_exporter": "python",
   "pygments_lexer": "ipython3",
   "version": "3.8.5"
  }
 },
 "nbformat": 4,
 "nbformat_minor": 5
}
