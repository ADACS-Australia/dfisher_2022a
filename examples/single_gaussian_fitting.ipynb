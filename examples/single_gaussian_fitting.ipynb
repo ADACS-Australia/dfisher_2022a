{
 "cells": [
  {
   "cell_type": "code",
   "execution_count": 1,
   "id": "a17a8837",
   "metadata": {},
   "outputs": [],
   "source": [
    "from mpdaf.obj import Cube\n",
    "import numpy as np\n",
    "import pandas as pd"
   ]
  },
  {
   "cell_type": "code",
   "execution_count": 2,
   "id": "2cb9d40e",
   "metadata": {},
   "outputs": [],
   "source": [
    "from dfisher_2022a.emission_lines import Halpha\n",
    "from dfisher_2022a.io.cube import FitReadyCube, RestCube, SNRMap\n",
    "from dfisher_2022a.io.line import Line\n",
    "import dfisher_2022a as dfi"
   ]
  },
  {
   "cell_type": "markdown",
   "id": "fce8d330",
   "metadata": {},
   "source": [
    "### Read in test data cube"
   ]
  },
  {
   "cell_type": "code",
   "execution_count": 3,
   "id": "fb8f501f",
   "metadata": {},
   "outputs": [],
   "source": [
    "path = \"../dfisher_2022a/tests/data/\"\n",
    "fits_file = path + \"single_gaussian_muse_size.fits\"\n",
    "res_file = path + \"eso338_test_run_6563_simple_model.txt\""
   ]
  },
  {
   "cell_type": "code",
   "execution_count": 4,
   "id": "0f6a1e7a",
   "metadata": {},
   "outputs": [],
   "source": [
    "cube = Cube(fits_file)"
   ]
  },
  {
   "cell_type": "code",
   "execution_count": 5,
   "id": "b2e09b1a",
   "metadata": {},
   "outputs": [
    {
     "data": {
      "text/plain": [
       "(34, 368, 331)"
      ]
     },
     "execution_count": 5,
     "metadata": {},
     "output_type": "execute_result"
    }
   ],
   "source": [
    "cube.shape"
   ]
  },
  {
   "cell_type": "code",
   "execution_count": 6,
   "id": "51c397b0",
   "metadata": {},
   "outputs": [
    {
     "data": {
      "text/plain": [
       "6603.8486328125"
      ]
     },
     "execution_count": 6,
     "metadata": {},
     "output_type": "execute_result"
    }
   ],
   "source": [
    "cube.wave.get_crval()"
   ]
  },
  {
   "cell_type": "markdown",
   "id": "4e246eae",
   "metadata": {},
   "source": [
    "### Settings"
   ]
  },
  {
   "cell_type": "code",
   "execution_count": 7,
   "id": "4920a085",
   "metadata": {},
   "outputs": [],
   "source": [
    "Z = 0.009482649107040553\n",
    "SNR_THRESHOLD = 5"
   ]
  },
  {
   "cell_type": "markdown",
   "id": "8b1ffd2d",
   "metadata": {},
   "source": [
    "### Prepare data for fitting"
   ]
  },
  {
   "cell_type": "markdown",
   "id": "70defa18",
   "metadata": {},
   "source": [
    "#### 1. de-redshift"
   ]
  },
  {
   "cell_type": "code",
   "execution_count": 8,
   "id": "d5b389df",
   "metadata": {},
   "outputs": [],
   "source": [
    "rcube = RestCube(cube, Z)"
   ]
  },
  {
   "cell_type": "code",
   "execution_count": 9,
   "id": "d5f94b28",
   "metadata": {},
   "outputs": [
    {
     "data": {
      "text/plain": [
       "0.009482649107040553"
      ]
     },
     "execution_count": 9,
     "metadata": {},
     "output_type": "execute_result"
    }
   ],
   "source": [
    "rcube.z"
   ]
  },
  {
   "cell_type": "code",
   "execution_count": 10,
   "id": "c878ae2f",
   "metadata": {},
   "outputs": [
    {
     "data": {
      "text/plain": [
       "6541.814897615204"
      ]
     },
     "execution_count": 10,
     "metadata": {},
     "output_type": "execute_result"
    }
   ],
   "source": [
    "rcube._restwave"
   ]
  },
  {
   "cell_type": "code",
   "execution_count": 11,
   "id": "818aface",
   "metadata": {},
   "outputs": [
    {
     "data": {
      "text/plain": [
       "6541.814897615204"
      ]
     },
     "execution_count": 11,
     "metadata": {},
     "output_type": "execute_result"
    }
   ],
   "source": [
    "rcube.restcube.wave.get_crval()"
   ]
  },
  {
   "cell_type": "markdown",
   "id": "834d258b",
   "metadata": {},
   "source": [
    "2. #### select fitting region"
   ]
  },
  {
   "cell_type": "code",
   "execution_count": 12,
   "id": "f6810a1a",
   "metadata": {},
   "outputs": [],
   "source": [
    "fline = Line(Halpha)"
   ]
  },
  {
   "cell_type": "code",
   "execution_count": 13,
   "id": "ebbb62b1",
   "metadata": {},
   "outputs": [
    {
     "name": "stdout",
     "output_type": "stream",
     "text": [
      "6547.819 6562.819 6577.819\n"
     ]
    }
   ],
   "source": [
    "print(fline.low, fline.line, fline.high)"
   ]
  },
  {
   "cell_type": "code",
   "execution_count": 14,
   "id": "31b6c849",
   "metadata": {},
   "outputs": [
    {
     "data": {
      "text/plain": [
       "28.804001907823775"
      ]
     },
     "execution_count": 14,
     "metadata": {},
     "output_type": "execute_result"
    }
   ],
   "source": [
    "rcube.restcube.wave.pixel(6577.8199)"
   ]
  },
  {
   "cell_type": "code",
   "execution_count": 15,
   "id": "89d40013",
   "metadata": {},
   "outputs": [],
   "source": [
    "frcube = FitReadyCube(rcube, fline)"
   ]
  },
  {
   "cell_type": "code",
   "execution_count": 16,
   "id": "16afd3e9",
   "metadata": {},
   "outputs": [
    {
     "data": {
      "text/plain": [
       "5"
      ]
     },
     "execution_count": 16,
     "metadata": {},
     "output_type": "execute_result"
    }
   ],
   "source": [
    "frcube.low_index"
   ]
  },
  {
   "cell_type": "code",
   "execution_count": 17,
   "id": "9eff6b76",
   "metadata": {},
   "outputs": [
    {
     "data": {
      "text/plain": [
       "(25, 368, 331)"
      ]
     },
     "execution_count": 17,
     "metadata": {},
     "output_type": "execute_result"
    }
   ],
   "source": [
    "frcube.cube.shape"
   ]
  },
  {
   "cell_type": "markdown",
   "id": "8fa13a9b",
   "metadata": {},
   "source": [
    "#### 3. get snr map"
   ]
  },
  {
   "cell_type": "code",
   "execution_count": 18,
   "id": "365bfc5e",
   "metadata": {},
   "outputs": [],
   "source": [
    "snrmap = SNRMap(rcube.restcube, SNR_THRESHOLD)"
   ]
  },
  {
   "cell_type": "code",
   "execution_count": 19,
   "id": "6ea9a2ab",
   "metadata": {},
   "outputs": [],
   "source": [
    "snr = snrmap.snr"
   ]
  },
  {
   "cell_type": "code",
   "execution_count": 20,
   "id": "f6655ace",
   "metadata": {},
   "outputs": [
    {
     "data": {
      "text/plain": [
       "masked"
      ]
     },
     "execution_count": 20,
     "metadata": {},
     "output_type": "execute_result"
    }
   ],
   "source": [
    "snr[80,80]"
   ]
  },
  {
   "cell_type": "code",
   "execution_count": 21,
   "id": "aa40e7ee",
   "metadata": {},
   "outputs": [],
   "source": [
    "smap = snrmap.map"
   ]
  },
  {
   "cell_type": "code",
   "execution_count": 22,
   "id": "39634126",
   "metadata": {},
   "outputs": [
    {
     "data": {
      "text/plain": [
       "masked"
      ]
     },
     "execution_count": 22,
     "metadata": {},
     "output_type": "execute_result"
    }
   ],
   "source": [
    "smap.data[80,80]"
   ]
  },
  {
   "cell_type": "code",
   "execution_count": 23,
   "id": "ebf9cd15",
   "metadata": {},
   "outputs": [
    {
     "data": {
      "text/plain": [
       "(368, 331)"
      ]
     },
     "execution_count": 23,
     "metadata": {},
     "output_type": "execute_result"
    }
   ],
   "source": [
    "snr.shape"
   ]
  },
  {
   "cell_type": "code",
   "execution_count": 24,
   "id": "b66ffc1b",
   "metadata": {},
   "outputs": [],
   "source": [
    "count = 0\n",
    "for i in range(snr.shape[0]):\n",
    "    for j in range(snr.shape[1]):\n",
    "        if snr[i,j] >= 5:\n",
    "            count += 1"
   ]
  },
  {
   "cell_type": "code",
   "execution_count": 25,
   "id": "8ab231eb",
   "metadata": {},
   "outputs": [
    {
     "data": {
      "text/plain": [
       "69490"
      ]
     },
     "execution_count": 25,
     "metadata": {},
     "output_type": "execute_result"
    }
   ],
   "source": [
    "count"
   ]
  },
  {
   "cell_type": "code",
   "execution_count": 26,
   "id": "fc257457",
   "metadata": {},
   "outputs": [],
   "source": [
    "sm_cube = snrmap.snr_masked_cube"
   ]
  },
  {
   "cell_type": "code",
   "execution_count": 27,
   "id": "2a39d5e4",
   "metadata": {},
   "outputs": [
    {
     "data": {
      "text/plain": [
       "(34, 368, 331)"
      ]
     },
     "execution_count": 27,
     "metadata": {},
     "output_type": "execute_result"
    }
   ],
   "source": [
    "sm_cube.shape"
   ]
  },
  {
   "cell_type": "code",
   "execution_count": 28,
   "id": "65c422bd",
   "metadata": {},
   "outputs": [],
   "source": [
    "te = sm_cube.data[:,80,80]"
   ]
  },
  {
   "cell_type": "code",
   "execution_count": 29,
   "id": "b7c8d28b",
   "metadata": {},
   "outputs": [
    {
     "data": {
      "text/plain": [
       "True"
      ]
     },
     "execution_count": 29,
     "metadata": {},
     "output_type": "execute_result"
    }
   ],
   "source": [
    "te.mask.all()"
   ]
  },
  {
   "cell_type": "markdown",
   "id": "b0caec89",
   "metadata": {},
   "source": [
    "#### get fit ready cube"
   ]
  },
  {
   "cell_type": "code",
   "execution_count": 30,
   "id": "854e68ce",
   "metadata": {},
   "outputs": [],
   "source": [
    "ffrcube = FitReadyCube(rcube, fline, SNR_THRESHOLD)"
   ]
  },
  {
   "cell_type": "code",
   "execution_count": 31,
   "id": "62bd66f4",
   "metadata": {},
   "outputs": [
    {
     "data": {
      "text/plain": [
       "masked_array(data=[12.175702095031738, 11.767293930053711,\n",
       "                   12.22632884979248, 11.773338317871094,\n",
       "                   11.761051177978516, 11.782549858093262,\n",
       "                   12.78128719329834, 11.9537935256958,\n",
       "                   14.307246208190918, 30.050148010253906,\n",
       "                   87.67877960205078, 187.4704132080078,\n",
       "                   241.05686950683594, 179.9756317138672,\n",
       "                   81.16941833496094, 27.804880142211914,\n",
       "                   14.032210350036621, 11.993968963623047,\n",
       "                   11.892915725708008, 12.09134578704834,\n",
       "                   11.779748916625977, 12.0618257522583,\n",
       "                   11.765948295593262, 11.759703636169434,\n",
       "                   12.781892776489258],\n",
       "             mask=[False, False, False, False, False, False, False, False,\n",
       "                   False, False, False, False, False, False, False, False,\n",
       "                   False, False, False, False, False, False, False, False,\n",
       "                   False],\n",
       "       fill_value=1e+20)"
      ]
     },
     "execution_count": 31,
     "metadata": {},
     "output_type": "execute_result"
    }
   ],
   "source": [
    "ffrcube.cube.data[:,150,150]"
   ]
  },
  {
   "cell_type": "markdown",
   "id": "1a929225",
   "metadata": {},
   "source": [
    "### Fit the data"
   ]
  },
  {
   "cell_type": "code",
   "execution_count": 31,
   "id": "58c180a8",
   "metadata": {},
   "outputs": [],
   "source": [
    "model = dfi.models.Lm_Const_1GaussModel"
   ]
  },
  {
   "cell_type": "code",
   "execution_count": 32,
   "id": "8772dec6",
   "metadata": {},
   "outputs": [],
   "source": [
    "cube_for_fit = ffrcube.cube"
   ]
  },
  {
   "cell_type": "code",
   "execution_count": 33,
   "id": "52682443",
   "metadata": {},
   "outputs": [
    {
     "name": "stderr",
     "output_type": "stream",
     "text": [
      "/Users/SuperTiger/ADACS/repo/SS2022A-DFisher/dfisher_2022a/dfisher_2022a/fits/base.py:57: SettingWithCopyWarning: \n",
      "A value is trying to be set on a copy of a slice from a DataFrame\n",
      "\n",
      "See the caveats in the documentation: https://pandas.pydata.org/pandas-docs/stable/user_guide/indexing.html#returning-a-view-versus-a-copy\n",
      "  df[\"row\"][i*axis_y:(i+1)*axis_y] = i\n"
     ]
    }
   ],
   "source": [
    "fc = dfi.fits.base.FitCube(cube_for_fit, model)"
   ]
  },
  {
   "cell_type": "code",
   "execution_count": 40,
   "id": "67aa5a40",
   "metadata": {},
   "outputs": [
    {
     "data": {
      "text/plain": [
       "row       int32\n",
       "col       int64\n",
       "Result    int32\n",
       "dtype: object"
      ]
     },
     "execution_count": 40,
     "metadata": {},
     "output_type": "execute_result"
    }
   ],
   "source": [
    "fc.res.dtypes"
   ]
  },
  {
   "cell_type": "code",
   "execution_count": 37,
   "id": "c54867df",
   "metadata": {},
   "outputs": [
    {
     "name": "stdout",
     "output_type": "stream",
     "text": [
      "subprocess:  68493  pixel:  150 150\n"
     ]
    }
   ],
   "source": [
    "c = fc.fit_single_spaxel(150,150)"
   ]
  },
  {
   "cell_type": "code",
   "execution_count": 40,
   "id": "66da8ad3",
   "metadata": {},
   "outputs": [],
   "source": [
    "te = np.zeros((3,3))"
   ]
  },
  {
   "cell_type": "code",
   "execution_count": 41,
   "id": "442107da",
   "metadata": {},
   "outputs": [
    {
     "data": {
      "text/plain": [
       "array([[0., 0., 0.],\n",
       "       [0., 0., 0.],\n",
       "       [0., 0., 0.]])"
      ]
     },
     "execution_count": 41,
     "metadata": {},
     "output_type": "execute_result"
    }
   ],
   "source": [
    "te"
   ]
  },
  {
   "cell_type": "code",
   "execution_count": 34,
   "id": "82d3aed3",
   "metadata": {},
   "outputs": [],
   "source": [
    "small = cube_for_fit[:,140:150,140:150]"
   ]
  },
  {
   "cell_type": "code",
   "execution_count": 35,
   "id": "62d3ebe8",
   "metadata": {},
   "outputs": [
    {
     "name": "stderr",
     "output_type": "stream",
     "text": [
      "/Users/SuperTiger/ADACS/repo/SS2022A-DFisher/dfisher_2022a/dfisher_2022a/fits/base.py:57: SettingWithCopyWarning: \n",
      "A value is trying to be set on a copy of a slice from a DataFrame\n",
      "\n",
      "See the caveats in the documentation: https://pandas.pydata.org/pandas-docs/stable/user_guide/indexing.html#returning-a-view-versus-a-copy\n",
      "  df[\"row\"][i*axis_y:(i+1)*axis_y] = i\n"
     ]
    }
   ],
   "source": [
    "fsmall = dfi.fits.base.FitCube(small, model)"
   ]
  },
  {
   "cell_type": "code",
   "execution_count": 36,
   "id": "e5251f5e",
   "metadata": {},
   "outputs": [
    {
     "data": {
      "text/html": [
       "<div>\n",
       "<style scoped>\n",
       "    .dataframe tbody tr th:only-of-type {\n",
       "        vertical-align: middle;\n",
       "    }\n",
       "\n",
       "    .dataframe tbody tr th {\n",
       "        vertical-align: top;\n",
       "    }\n",
       "\n",
       "    .dataframe thead th {\n",
       "        text-align: right;\n",
       "    }\n",
       "</style>\n",
       "<table border=\"1\" class=\"dataframe\">\n",
       "  <thead>\n",
       "    <tr style=\"text-align: right;\">\n",
       "      <th></th>\n",
       "      <th>row</th>\n",
       "      <th>col</th>\n",
       "      <th>Result</th>\n",
       "    </tr>\n",
       "  </thead>\n",
       "  <tbody>\n",
       "    <tr>\n",
       "      <th>0</th>\n",
       "      <td>0</td>\n",
       "      <td>0</td>\n",
       "      <td>0</td>\n",
       "    </tr>\n",
       "    <tr>\n",
       "      <th>1</th>\n",
       "      <td>0</td>\n",
       "      <td>1</td>\n",
       "      <td>0</td>\n",
       "    </tr>\n",
       "    <tr>\n",
       "      <th>2</th>\n",
       "      <td>0</td>\n",
       "      <td>2</td>\n",
       "      <td>0</td>\n",
       "    </tr>\n",
       "    <tr>\n",
       "      <th>3</th>\n",
       "      <td>0</td>\n",
       "      <td>3</td>\n",
       "      <td>0</td>\n",
       "    </tr>\n",
       "    <tr>\n",
       "      <th>4</th>\n",
       "      <td>0</td>\n",
       "      <td>4</td>\n",
       "      <td>0</td>\n",
       "    </tr>\n",
       "    <tr>\n",
       "      <th>...</th>\n",
       "      <td>...</td>\n",
       "      <td>...</td>\n",
       "      <td>...</td>\n",
       "    </tr>\n",
       "    <tr>\n",
       "      <th>95</th>\n",
       "      <td>9</td>\n",
       "      <td>5</td>\n",
       "      <td>0</td>\n",
       "    </tr>\n",
       "    <tr>\n",
       "      <th>96</th>\n",
       "      <td>9</td>\n",
       "      <td>6</td>\n",
       "      <td>0</td>\n",
       "    </tr>\n",
       "    <tr>\n",
       "      <th>97</th>\n",
       "      <td>9</td>\n",
       "      <td>7</td>\n",
       "      <td>0</td>\n",
       "    </tr>\n",
       "    <tr>\n",
       "      <th>98</th>\n",
       "      <td>9</td>\n",
       "      <td>8</td>\n",
       "      <td>0</td>\n",
       "    </tr>\n",
       "    <tr>\n",
       "      <th>99</th>\n",
       "      <td>9</td>\n",
       "      <td>9</td>\n",
       "      <td>0</td>\n",
       "    </tr>\n",
       "  </tbody>\n",
       "</table>\n",
       "<p>100 rows × 3 columns</p>\n",
       "</div>"
      ],
      "text/plain": [
       "    row  col  Result\n",
       "0     0    0       0\n",
       "1     0    1       0\n",
       "2     0    2       0\n",
       "3     0    3       0\n",
       "4     0    4       0\n",
       "..  ...  ...     ...\n",
       "95    9    5       0\n",
       "96    9    6       0\n",
       "97    9    7       0\n",
       "98    9    8       0\n",
       "99    9    9       0\n",
       "\n",
       "[100 rows x 3 columns]"
      ]
     },
     "execution_count": 36,
     "metadata": {},
     "output_type": "execute_result"
    }
   ],
   "source": [
    "fsmall.res"
   ]
  },
  {
   "cell_type": "code",
   "execution_count": 37,
   "id": "21344cd0",
   "metadata": {},
   "outputs": [
    {
     "name": "stderr",
     "output_type": "stream",
     "text": [
      "/Users/SuperTiger/ADACS/repo/SS2022A-DFisher/dfisher_2022a/dfisher_2022a/fits/base.py:71: SettingWithCopyWarning: \n",
      "A value is trying to be set on a copy of a slice from a DataFrame\n",
      "\n",
      "See the caveats in the documentation: https://pandas.pydata.org/pandas-docs/stable/user_guide/indexing.html#returning-a-view-versus-a-copy\n",
      "  self.res[\"Result\"].iloc[idx] = future.result()\n"
     ]
    },
    {
     "name": "stdout",
     "output_type": "stream",
     "text": [
      "subprocess:  70277  pixel:  0 0\n",
      "subprocess:  70277  pixel:  0 4\n",
      "subprocess:  70277  pixel:  0 8\n",
      "subprocess:  70277  pixel:  1 2\n",
      "subprocess:  70277  pixel:  1 6\n",
      "subprocess:  70277  pixel:  2 0\n",
      "subprocess:  70277  pixel:  2 4\n",
      "subprocess:  70277  pixel:  2 8\n",
      "subprocess:  70277  pixel:  3 2\n",
      "subprocess:  70277  pixel:  3 6\n",
      "subprocess:  70277  pixel:  4 0\n",
      "subprocess:  70277  pixel:  4 4\n",
      "subprocess:  70277  pixel:  4 8\n",
      "subprocess:  70277  pixel:  5 2\n",
      "subprocess:  70277  pixel:  5 6\n",
      "subprocess:  70277  pixel:  6 0\n",
      "subprocess:  70277  pixel:  6 4\n",
      "subprocess:  70277  pixel:  6 8\n",
      "subprocess:  70277  pixel:  7 2\n",
      "subprocess:  70277  pixel:  7 6\n",
      "subprocess:  70277  pixel:  8 0\n",
      "subprocess:  70277  pixel:  8 4\n",
      "subprocess:  70277  pixel:  8 8\n",
      "subprocess:  70277  pixel:  9 2\n",
      "subprocess:  70277  pixel:  9 6\n",
      "subprocess:  70276  pixel:  0 1\n",
      "subprocess:  70276  pixel:  0 5\n",
      "subprocess:  70276  pixel:  0 9\n",
      "subprocess:  70276  pixel:  1 3\n",
      "subprocess:  70276  pixel:  1 7\n",
      "subprocess:  70276  pixel:  2 1\n",
      "subprocess:  70276  pixel:  2 5\n",
      "subprocess:  70276  pixel:  2 9\n",
      "subprocess:  70276  pixel:  3 3\n",
      "subprocess:  70276  pixel:  3 7\n",
      "subprocess:  70276  pixel:  4 1\n",
      "subprocess:  70276  pixel:  4 5\n",
      "subprocess:  70276  pixel:  4 9\n",
      "subprocess:  70276  pixel:  5 3\n",
      "subprocess:  70276  pixel:  5 7\n",
      "subprocess:  70276  pixel:  6 1\n",
      "subprocess:  70276  pixel:  6 5\n",
      "subprocess:  70276  pixel:  6 9\n",
      "subprocess:  70276  pixel:  7 3\n",
      "subprocess:  70276  pixel:  7 7\n",
      "subprocess:  70276  pixel:  8 1\n",
      "subprocess:  70276  pixel:  8 5\n",
      "subprocess:  70276  pixel:  8 9\n",
      "subprocess:  70276  pixel:  9 3\n",
      "subprocess:  70276  pixel:  9 7\n",
      "subprocess:  70278  pixel:  0 2\n",
      "subprocess:  70278  pixel:  0 6\n",
      "subprocess:  70278  pixel:  1 0\n",
      "subprocess:  70278  pixel:  1 4\n",
      "subprocess:  70278  pixel:  1 8\n",
      "subprocess:  70278  pixel:  2 2\n",
      "subprocess:  70278  pixel:  2 6\n",
      "subprocess:  70278  pixel:  3 0\n",
      "subprocess:  70278  pixel:  3 4\n",
      "subprocess:  70278  pixel:  3 8\n",
      "subprocess:  70278  pixel:  4 2\n",
      "subprocess:  70278  pixel:  4 6\n",
      "subprocess:  70278  pixel:  5 0\n",
      "subprocess:  70278  pixel:  5 4\n",
      "subprocess:  70278  pixel:  5 8\n",
      "subprocess:  70278  pixel:  6 2\n",
      "subprocess:  70278  pixel:  6 6\n",
      "subprocess:  70278  pixel:  7 0\n",
      "subprocess:  70278  pixel:  7 4\n",
      "subprocess:  70278  pixel:  7 8\n",
      "subprocess:  70278  pixel:  8 2\n",
      "subprocess:  70278  pixel:  8 6\n",
      "subprocess:  70278  pixel:  9 0\n",
      "subprocess:  70278  pixel:  9 4\n",
      "subprocess:  70278  pixel:  9 8\n",
      "subprocess:  70279  pixel:  0 3\n",
      "subprocess:  70279  pixel:  0 7\n",
      "subprocess:  70279  pixel:  1 1\n",
      "subprocess:  70279  pixel:  1 5\n",
      "subprocess:  70279  pixel:  1 9\n",
      "subprocess:  70279  pixel:  2 3\n",
      "subprocess:  70279  pixel:  2 7\n",
      "subprocess:  70279  pixel:  3 1\n",
      "subprocess:  70279  pixel:  3 5\n",
      "subprocess:  70279  pixel:  3 9\n",
      "subprocess:  70279  pixel:  4 3\n",
      "subprocess:  70279  pixel:  4 7\n",
      "subprocess:  70279  pixel:  5 1\n",
      "subprocess:  70279  pixel:  5 5\n",
      "subprocess:  70279  pixel:  5 9\n",
      "subprocess:  70279  pixel:  6 3\n",
      "subprocess:  70279  pixel:  6 7\n",
      "subprocess:  70279  pixel:  7 1\n",
      "subprocess:  70279  pixel:  7 5\n",
      "subprocess:  70279  pixel:  7 9\n",
      "subprocess:  70279  pixel:  8 3\n",
      "subprocess:  70279  pixel:  8 7\n",
      "subprocess:  70279  pixel:  9 1\n",
      "subprocess:  70279  pixel:  9 5\n",
      "subprocess:  70279  pixel:  9 9\n",
      "CPU times: user 3.63 s, sys: 117 ms, total: 3.75 s\n",
      "Wall time: 28.6 s\n"
     ]
    }
   ],
   "source": [
    "%%time\n",
    "\n",
    "fsmall.fit_all(4)"
   ]
  },
  {
   "cell_type": "code",
   "execution_count": 39,
   "id": "7c857f45",
   "metadata": {},
   "outputs": [
    {
     "data": {
      "text/plain": [
       "row        int32\n",
       "col        int64\n",
       "Result    object\n",
       "dtype: object"
      ]
     },
     "execution_count": 39,
     "metadata": {},
     "output_type": "execute_result"
    }
   ],
   "source": [
    "fsmall.res.dtypes"
   ]
  },
  {
   "cell_type": "code",
   "execution_count": 44,
   "id": "703bf692",
   "metadata": {},
   "outputs": [],
   "source": [
    "ch = fsmall.res[\"Result\"][0]"
   ]
  },
  {
   "cell_type": "code",
   "execution_count": 45,
   "id": "d7187191",
   "metadata": {},
   "outputs": [
    {
     "data": {
      "text/plain": [
       "['_Minimizer__jacobian',\n",
       " '_Minimizer__residual',\n",
       " '__class__',\n",
       " '__delattr__',\n",
       " '__dict__',\n",
       " '__dir__',\n",
       " '__doc__',\n",
       " '__eq__',\n",
       " '__format__',\n",
       " '__ge__',\n",
       " '__getattribute__',\n",
       " '__gt__',\n",
       " '__hash__',\n",
       " '__init__',\n",
       " '__init_subclass__',\n",
       " '__le__',\n",
       " '__lt__',\n",
       " '__module__',\n",
       " '__ne__',\n",
       " '__new__',\n",
       " '__reduce__',\n",
       " '__reduce_ex__',\n",
       " '__repr__',\n",
       " '__setattr__',\n",
       " '__sizeof__',\n",
       " '__slotnames__',\n",
       " '__str__',\n",
       " '__subclasshook__',\n",
       " '__weakref__',\n",
       " '_abort',\n",
       " '_calculate_covariance_matrix',\n",
       " '_calculate_uncertainties_correlations',\n",
       " '_err_max_evals',\n",
       " '_err_nonparam',\n",
       " '_int2ext_cov_x',\n",
       " '_lnprob',\n",
       " '_repr_html_',\n",
       " 'aborted',\n",
       " 'aic',\n",
       " 'ampgo',\n",
       " 'basinhopping',\n",
       " 'best_fit',\n",
       " 'best_values',\n",
       " 'bic',\n",
       " 'brute',\n",
       " 'calc_covar',\n",
       " 'call_kws',\n",
       " 'chisqr',\n",
       " 'ci_out',\n",
       " 'ci_report',\n",
       " 'col_deriv',\n",
       " 'components',\n",
       " 'conf_interval',\n",
       " 'covar',\n",
       " 'data',\n",
       " 'dual_annealing',\n",
       " 'dump',\n",
       " 'dumps',\n",
       " 'emcee',\n",
       " 'errorbars',\n",
       " 'eval',\n",
       " 'eval_components',\n",
       " 'eval_uncertainty',\n",
       " 'fit',\n",
       " 'fit_report',\n",
       " 'flatchain',\n",
       " 'ier',\n",
       " 'init_fit',\n",
       " 'init_params',\n",
       " 'init_vals',\n",
       " 'init_values',\n",
       " 'iter_cb',\n",
       " 'jacfcn',\n",
       " 'kws',\n",
       " 'last_internal_values',\n",
       " 'least_squares',\n",
       " 'leastsq',\n",
       " 'lmdif_message',\n",
       " 'load',\n",
       " 'loads',\n",
       " 'max_nfev',\n",
       " 'message',\n",
       " 'method',\n",
       " 'minimize',\n",
       " 'model',\n",
       " 'nan_policy',\n",
       " 'ndata',\n",
       " 'nfev',\n",
       " 'nfree',\n",
       " 'nvarys',\n",
       " 'params',\n",
       " 'penalty',\n",
       " 'plot',\n",
       " 'plot_fit',\n",
       " 'plot_residuals',\n",
       " 'prepare_fit',\n",
       " 'redchi',\n",
       " 'reduce_fcn',\n",
       " 'residual',\n",
       " 'result',\n",
       " 'scalar_minimize',\n",
       " 'scale_covar',\n",
       " 'set_max_nfev',\n",
       " 'shgo',\n",
       " 'show_candidates',\n",
       " 'success',\n",
       " 'unprepare_fit',\n",
       " 'user_options',\n",
       " 'userargs',\n",
       " 'userfcn',\n",
       " 'userkws',\n",
       " 'values',\n",
       " 'var_names',\n",
       " 'weights']"
      ]
     },
     "execution_count": 45,
     "metadata": {},
     "output_type": "execute_result"
    }
   ],
   "source": [
    "dir(ch)"
   ]
  },
  {
   "cell_type": "code",
   "execution_count": 61,
   "id": "1fc24b41",
   "metadata": {},
   "outputs": [],
   "source": [
    "cr = ch.result"
   ]
  },
  {
   "cell_type": "code",
   "execution_count": 63,
   "id": "7f817bcf",
   "metadata": {},
   "outputs": [
    {
     "data": {
      "text/plain": [
       "['g1_height', 'g1_center', 'g1_sigma', 'c']"
      ]
     },
     "execution_count": 63,
     "metadata": {},
     "output_type": "execute_result"
    }
   ],
   "source": [
    "cr.var_names"
   ]
  },
  {
   "cell_type": "code",
   "execution_count": 84,
   "id": "b4154784",
   "metadata": {},
   "outputs": [
    {
     "data": {
      "text/plain": [
       "1.0535887534869381"
      ]
     },
     "execution_count": 84,
     "metadata": {},
     "output_type": "execute_result"
    }
   ],
   "source": [
    "ch.params.get('g1_height').stderr"
   ]
  },
  {
   "cell_type": "code",
   "execution_count": 78,
   "id": "c8e1278c",
   "metadata": {},
   "outputs": [
    {
     "data": {
      "text/plain": [
       "['__add__',\n",
       " '__array__',\n",
       " '__class__',\n",
       " '__contains__',\n",
       " '__copy__',\n",
       " '__deepcopy__',\n",
       " '__delattr__',\n",
       " '__delitem__',\n",
       " '__dict__',\n",
       " '__dir__',\n",
       " '__doc__',\n",
       " '__eq__',\n",
       " '__format__',\n",
       " '__ge__',\n",
       " '__getattribute__',\n",
       " '__getitem__',\n",
       " '__gt__',\n",
       " '__hash__',\n",
       " '__iadd__',\n",
       " '__init__',\n",
       " '__init_subclass__',\n",
       " '__iter__',\n",
       " '__le__',\n",
       " '__len__',\n",
       " '__lt__',\n",
       " '__module__',\n",
       " '__ne__',\n",
       " '__new__',\n",
       " '__reduce__',\n",
       " '__reduce_ex__',\n",
       " '__repr__',\n",
       " '__reversed__',\n",
       " '__setattr__',\n",
       " '__setitem__',\n",
       " '__setstate__',\n",
       " '__sizeof__',\n",
       " '__str__',\n",
       " '__subclasshook__',\n",
       " '__weakref__',\n",
       " '_asteval',\n",
       " '_repr_html_',\n",
       " 'add',\n",
       " 'add_many',\n",
       " 'clear',\n",
       " 'copy',\n",
       " 'dump',\n",
       " 'dumps',\n",
       " 'eval',\n",
       " 'fromkeys',\n",
       " 'get',\n",
       " 'items',\n",
       " 'keys',\n",
       " 'load',\n",
       " 'loads',\n",
       " 'pop',\n",
       " 'popitem',\n",
       " 'pretty_print',\n",
       " 'pretty_repr',\n",
       " 'setdefault',\n",
       " 'update',\n",
       " 'update_constraints',\n",
       " 'values',\n",
       " 'valuesdict']"
      ]
     },
     "execution_count": 78,
     "metadata": {},
     "output_type": "execute_result"
    }
   ],
   "source": [
    "dir(ch.params)"
   ]
  },
  {
   "cell_type": "code",
   "execution_count": 56,
   "id": "21f2b9c6",
   "metadata": {},
   "outputs": [
    {
     "data": {
      "text/plain": [
       "array([1.38968256e+02, 6.56301940e+03, 2.21056375e+00, 5.27618346e+00])"
      ]
     },
     "execution_count": 56,
     "metadata": {},
     "output_type": "execute_result"
    }
   ],
   "source": [
    "ch.last_internal_values"
   ]
  },
  {
   "cell_type": "code",
   "execution_count": 58,
   "id": "9eebb206",
   "metadata": {},
   "outputs": [
    {
     "data": {
      "text/plain": [
       "{'c': 5.2761834589929615,\n",
       " 'g1_height': 137.97185427421581,\n",
       " 'g1_center': 6563.019402970259,\n",
       " 'g1_sigma': 1.4262300169236233}"
      ]
     },
     "execution_count": 58,
     "metadata": {},
     "output_type": "execute_result"
    }
   ],
   "source": [
    "ch.best_values"
   ]
  },
  {
   "cell_type": "code",
   "execution_count": 85,
   "id": "a08d9607",
   "metadata": {},
   "outputs": [
    {
     "data": {
      "text/plain": [
       "lmfit.model.ModelResult"
      ]
     },
     "execution_count": 85,
     "metadata": {},
     "output_type": "execute_result"
    }
   ],
   "source": [
    "type(ch)"
   ]
  },
  {
   "cell_type": "code",
   "execution_count": 86,
   "id": "c27956ad",
   "metadata": {},
   "outputs": [],
   "source": [
    "import sys"
   ]
  },
  {
   "cell_type": "code",
   "execution_count": 87,
   "id": "80035c25",
   "metadata": {},
   "outputs": [
    {
     "data": {
      "text/plain": [
       "48"
      ]
     },
     "execution_count": 87,
     "metadata": {},
     "output_type": "execute_result"
    }
   ],
   "source": [
    "sys.getsizeof(ch)"
   ]
  },
  {
   "cell_type": "code",
   "execution_count": 88,
   "id": "84f10e96",
   "metadata": {},
   "outputs": [
    {
     "data": {
      "text/plain": [
       "5220214144"
      ]
     },
     "execution_count": 88,
     "metadata": {},
     "output_type": "execute_result"
    }
   ],
   "source": [
    "id(ch)"
   ]
  },
  {
   "cell_type": "code",
   "execution_count": 91,
   "id": "8e54ea4a",
   "metadata": {},
   "outputs": [],
   "source": [
    "l = [ch,ch,ch]"
   ]
  },
  {
   "cell_type": "code",
   "execution_count": 94,
   "id": "124f67ad",
   "metadata": {},
   "outputs": [
    {
     "data": {
      "text/plain": [
       "86456"
      ]
     },
     "execution_count": 94,
     "metadata": {},
     "output_type": "execute_result"
    }
   ],
   "source": [
    "sys.getsizeof(l)"
   ]
  },
  {
   "cell_type": "code",
   "execution_count": 93,
   "id": "0fcf0e6d",
   "metadata": {},
   "outputs": [],
   "source": [
    "l = [ch]*10800"
   ]
  },
  {
   "cell_type": "code",
   "execution_count": 96,
   "id": "2e7d36fe",
   "metadata": {},
   "outputs": [],
   "source": [
    "y = (1,2,'tr')"
   ]
  },
  {
   "cell_type": "code",
   "execution_count": 98,
   "id": "d2a33993",
   "metadata": {},
   "outputs": [
    {
     "data": {
      "text/plain": [
       "tuple"
      ]
     },
     "execution_count": 98,
     "metadata": {},
     "output_type": "execute_result"
    }
   ],
   "source": [
    "type(y)"
   ]
  },
  {
   "cell_type": "code",
   "execution_count": null,
   "id": "ca0c6e68",
   "metadata": {},
   "outputs": [],
   "source": []
  }
 ],
 "metadata": {
  "kernelspec": {
   "display_name": "dfi",
   "language": "python",
   "name": "dfi"
  },
  "language_info": {
   "codemirror_mode": {
    "name": "ipython",
    "version": 3
   },
   "file_extension": ".py",
   "mimetype": "text/x-python",
   "name": "python",
   "nbconvert_exporter": "python",
   "pygments_lexer": "ipython3",
   "version": "3.8.5"
  }
 },
 "nbformat": 4,
 "nbformat_minor": 5
}
