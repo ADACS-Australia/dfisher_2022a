{
 "cells": [
  {
   "cell_type": "code",
   "execution_count": 8,
   "id": "a17a8837",
   "metadata": {},
   "outputs": [],
   "source": [
    "from mpdaf.obj import Cube"
   ]
  },
  {
   "cell_type": "code",
   "execution_count": 97,
   "id": "2cb9d40e",
   "metadata": {},
   "outputs": [],
   "source": [
    "import numpy as np"
   ]
  },
  {
   "cell_type": "code",
   "execution_count": 11,
   "id": "87a307be",
   "metadata": {},
   "outputs": [],
   "source": [
    "from dfisher_2022a.emission_lines import OIII5007"
   ]
  },
  {
   "cell_type": "code",
   "execution_count": 70,
   "id": "ce79003e",
   "metadata": {},
   "outputs": [],
   "source": [
    "from dfisher_2022a.io.cube import FitReadyCube, RestCube, SNRMap"
   ]
  },
  {
   "cell_type": "code",
   "execution_count": 13,
   "id": "da710abc",
   "metadata": {},
   "outputs": [],
   "source": [
    "from dfisher_2022a.io.line import Line"
   ]
  },
  {
   "cell_type": "markdown",
   "id": "fce8d330",
   "metadata": {},
   "source": [
    "### Read in test data cube"
   ]
  },
  {
   "cell_type": "code",
   "execution_count": 7,
   "id": "fb8f501f",
   "metadata": {},
   "outputs": [],
   "source": [
    "tfile = \"testing.fits\""
   ]
  },
  {
   "cell_type": "code",
   "execution_count": 22,
   "id": "0f6a1e7a",
   "metadata": {},
   "outputs": [],
   "source": [
    "cube = Cube(tfile)"
   ]
  },
  {
   "cell_type": "code",
   "execution_count": 23,
   "id": "51c397b0",
   "metadata": {},
   "outputs": [
    {
     "data": {
      "text/plain": [
       "5165.59"
      ]
     },
     "execution_count": 23,
     "metadata": {},
     "output_type": "execute_result"
    }
   ],
   "source": [
    "cube.wave.get_crval()"
   ]
  },
  {
   "cell_type": "markdown",
   "id": "4e246eae",
   "metadata": {},
   "source": [
    "### Settings"
   ]
  },
  {
   "cell_type": "code",
   "execution_count": 10,
   "id": "4920a085",
   "metadata": {},
   "outputs": [],
   "source": [
    "Z = 0.033866\n",
    "SNR_THRESHOLD = 10"
   ]
  },
  {
   "cell_type": "markdown",
   "id": "8b1ffd2d",
   "metadata": {},
   "source": [
    "### Process data"
   ]
  },
  {
   "cell_type": "markdown",
   "id": "70defa18",
   "metadata": {},
   "source": [
    "#### 1. de-redshift"
   ]
  },
  {
   "cell_type": "code",
   "execution_count": 24,
   "id": "d5b389df",
   "metadata": {},
   "outputs": [],
   "source": [
    "rcube = RestCube(cube, Z)"
   ]
  },
  {
   "cell_type": "code",
   "execution_count": 25,
   "id": "d5f94b28",
   "metadata": {},
   "outputs": [
    {
     "data": {
      "text/plain": [
       "0.033866"
      ]
     },
     "execution_count": 25,
     "metadata": {},
     "output_type": "execute_result"
    }
   ],
   "source": [
    "rcube.z"
   ]
  },
  {
   "cell_type": "code",
   "execution_count": 26,
   "id": "c878ae2f",
   "metadata": {},
   "outputs": [
    {
     "data": {
      "text/plain": [
       "4996.382509919081"
      ]
     },
     "execution_count": 26,
     "metadata": {},
     "output_type": "execute_result"
    }
   ],
   "source": [
    "rcube._restwave"
   ]
  },
  {
   "cell_type": "code",
   "execution_count": 19,
   "id": "818aface",
   "metadata": {},
   "outputs": [
    {
     "data": {
      "text/plain": [
       "4996.382509919081"
      ]
     },
     "execution_count": 19,
     "metadata": {},
     "output_type": "execute_result"
    }
   ],
   "source": [
    "rcube.restcube.wave.get_crval()"
   ]
  },
  {
   "cell_type": "markdown",
   "id": "834d258b",
   "metadata": {},
   "source": [
    "2. #### select fitting region"
   ]
  },
  {
   "cell_type": "code",
   "execution_count": 28,
   "id": "f6810a1a",
   "metadata": {},
   "outputs": [],
   "source": [
    "fline = Line(OIII5007)"
   ]
  },
  {
   "cell_type": "code",
   "execution_count": 30,
   "id": "ebbb62b1",
   "metadata": {},
   "outputs": [
    {
     "name": "stdout",
     "output_type": "stream",
     "text": [
      "4991.843 5006.843 5021.843\n"
     ]
    }
   ],
   "source": [
    "print(fline.low, fline.line, fline.high)"
   ]
  },
  {
   "cell_type": "code",
   "execution_count": 40,
   "id": "31b6c849",
   "metadata": {},
   "outputs": [
    {
     "data": {
      "text/plain": [
       "20.92098016180003"
      ]
     },
     "execution_count": 40,
     "metadata": {},
     "output_type": "execute_result"
    }
   ],
   "source": [
    "rcube.restcube.wave.pixel(5006.843)"
   ]
  },
  {
   "cell_type": "code",
   "execution_count": 45,
   "id": "89d40013",
   "metadata": {},
   "outputs": [],
   "source": [
    "frcube = FitReadyCube(rcube, fline)"
   ]
  },
  {
   "cell_type": "code",
   "execution_count": 46,
   "id": "16afd3e9",
   "metadata": {},
   "outputs": [
    {
     "data": {
      "text/plain": [
       "42"
      ]
     },
     "execution_count": 46,
     "metadata": {},
     "output_type": "execute_result"
    }
   ],
   "source": [
    "frcube.high_index"
   ]
  },
  {
   "cell_type": "code",
   "execution_count": 33,
   "id": "9eff6b76",
   "metadata": {},
   "outputs": [
    {
     "data": {
      "text/plain": [
       "(43, 23, 30)"
      ]
     },
     "execution_count": 33,
     "metadata": {},
     "output_type": "execute_result"
    }
   ],
   "source": [
    "frcube.cube.shape"
   ]
  },
  {
   "cell_type": "markdown",
   "id": "8fa13a9b",
   "metadata": {},
   "source": [
    "#### 3. get snr map"
   ]
  },
  {
   "cell_type": "code",
   "execution_count": 71,
   "id": "365bfc5e",
   "metadata": {},
   "outputs": [],
   "source": [
    "snrmap = SNRMap(frcube.cube, SNR_THRESHOLD)"
   ]
  },
  {
   "cell_type": "code",
   "execution_count": 61,
   "id": "6ea9a2ab",
   "metadata": {},
   "outputs": [],
   "source": [
    "snr = snrmap.snr"
   ]
  },
  {
   "cell_type": "code",
   "execution_count": 85,
   "id": "386d8623",
   "metadata": {},
   "outputs": [
    {
     "data": {
      "text/plain": [
       "masked"
      ]
     },
     "execution_count": 85,
     "metadata": {},
     "output_type": "execute_result"
    }
   ],
   "source": [
    "snr[0,7]"
   ]
  },
  {
   "cell_type": "code",
   "execution_count": 72,
   "id": "fc257457",
   "metadata": {},
   "outputs": [],
   "source": [
    "sm_cube = snrmap.snr_masked_cube"
   ]
  },
  {
   "cell_type": "code",
   "execution_count": 88,
   "id": "65c422bd",
   "metadata": {},
   "outputs": [
    {
     "data": {
      "text/plain": [
       "masked_array(data=[--, --, --, --, --, --, --, --, --, --, --, --, --, --,\n",
       "                   --, --, --, --, --, --, --, --, --, --, --, --, --, --,\n",
       "                   --, --, --, --, --, --, --, --, --, --, --, --, --, --,\n",
       "                   --],\n",
       "             mask=[ True,  True,  True,  True,  True,  True,  True,  True,\n",
       "                    True,  True,  True,  True,  True,  True,  True,  True,\n",
       "                    True,  True,  True,  True,  True,  True,  True,  True,\n",
       "                    True,  True,  True,  True,  True,  True,  True,  True,\n",
       "                    True,  True,  True,  True,  True,  True,  True,  True,\n",
       "                    True,  True,  True],\n",
       "       fill_value=1e+20,\n",
       "            dtype=float64)"
      ]
     },
     "execution_count": 88,
     "metadata": {},
     "output_type": "execute_result"
    }
   ],
   "source": [
    "sm_cube.data[:,0,7]"
   ]
  },
  {
   "cell_type": "markdown",
   "id": "b0caec89",
   "metadata": {},
   "source": [
    "#### get fit ready cube"
   ]
  },
  {
   "cell_type": "code",
   "execution_count": 43,
   "id": "854e68ce",
   "metadata": {},
   "outputs": [],
   "source": [
    "ffrcube = FitReadyCube(rcube, fline, SNR_THRESHOLD)"
   ]
  },
  {
   "cell_type": "code",
   "execution_count": 96,
   "id": "62bd66f4",
   "metadata": {},
   "outputs": [
    {
     "data": {
      "text/plain": [
       "masked_array(data=[--, --, --, --, --, --, --, --, --, --, --, --, --, --,\n",
       "                   --, --, --, --, --, --, --, --, --, --, --, --, --, --,\n",
       "                   --, --, --, --, --, --, --, --, --, --, --, --, --, --,\n",
       "                   --],\n",
       "             mask=[ True,  True,  True,  True,  True,  True,  True,  True,\n",
       "                    True,  True,  True,  True,  True,  True,  True,  True,\n",
       "                    True,  True,  True,  True,  True,  True,  True,  True,\n",
       "                    True,  True,  True,  True,  True,  True,  True,  True,\n",
       "                    True,  True,  True,  True,  True,  True,  True,  True,\n",
       "                    True,  True,  True],\n",
       "       fill_value=1e+20,\n",
       "            dtype=float64)"
      ]
     },
     "execution_count": 96,
     "metadata": {},
     "output_type": "execute_result"
    }
   ],
   "source": [
    "ffrcube.cube.data[:,0,7]"
   ]
  },
  {
   "cell_type": "code",
   "execution_count": null,
   "id": "eb5523c9",
   "metadata": {},
   "outputs": [],
   "source": []
  }
 ],
 "metadata": {
  "kernelspec": {
   "display_name": "dfi",
   "language": "python",
   "name": "dfi"
  },
  "language_info": {
   "codemirror_mode": {
    "name": "ipython",
    "version": 3
   },
   "file_extension": ".py",
   "mimetype": "text/x-python",
   "name": "python",
   "nbconvert_exporter": "python",
   "pygments_lexer": "ipython3",
   "version": "3.8.5"
  }
 },
 "nbformat": 4,
 "nbformat_minor": 5
}
